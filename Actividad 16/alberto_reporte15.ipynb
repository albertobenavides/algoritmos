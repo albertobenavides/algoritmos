{
 "cells": [
  {
   "cell_type": "code",
   "execution_count": 40,
   "metadata": {},
   "outputs": [
    {
     "name": "stdout",
     "output_type": "stream",
     "text": [
      "peso_total = 8.656549590467435\n",
      "valor_total = 9.11169307550897\n"
     ]
    }
   ],
   "source": [
    "import random\n",
    "import datetime\n",
    "\n",
    "objetos = []\n",
    "\n",
    "N = 20\n",
    "\n",
    "for i in range(N):\n",
    "    objeto = {\n",
    "        \"peso\" : random.random(),\n",
    "        \"valor\" : random.random()\n",
    "    }\n",
    "    objetos.append(objeto)\n",
    "    \n",
    "#objetos\n",
    "\n",
    "peso_total = 0\n",
    "valor_total = 0\n",
    "for i in range(N):\n",
    "    peso_total += objetos[i]['peso']\n",
    "    valor_total += objetos[i]['valor']\n",
    "print('peso_total = {}'.format(peso_total))\n",
    "print('valor_total = {}'.format(valor_total))"
   ]
  },
  {
   "cell_type": "code",
   "execution_count": 41,
   "metadata": {},
   "outputs": [
    {
     "name": "stdout",
     "output_type": "stream",
     "text": [
      "10101011100110111111\n",
      "7.797897712952794\n",
      "4.973991901862366 de 5.0\n",
      "tiempo: 0:00:06.016967\n"
     ]
    }
   ],
   "source": [
    "peso_sup = N / 4\n",
    "\n",
    "inicio = datetime.datetime.now()\n",
    "peso_max = 0\n",
    "valor_max = 0\n",
    "mejor_subconjunto = \"\"\n",
    "\n",
    "for i in range(2**N):\n",
    "    subconjunto = i + 1\n",
    "    subconjunto = bin(subconjunto)[2:]\n",
    "    peso_local = 0\n",
    "    valor_local = 0\n",
    "    for j in range(len(subconjunto)):\n",
    "        if subconjunto[j] == \"1\":\n",
    "            peso_local += objetos[j]['peso']\n",
    "            if peso_local <= peso_sup:\n",
    "                valor_local += objetos[j]['valor']\n",
    "            else:\n",
    "                break\n",
    "    if valor_local > valor_max:\n",
    "        valor_max = valor_local\n",
    "        peso_max = peso_local\n",
    "        mejor_subconjunto = subconjunto\n",
    "\n",
    "fin = datetime.datetime.now()\n",
    "\n",
    "print(mejor_subconjunto)\n",
    "print(valor_max)\n",
    "print('{} de {}'.format(peso_max, peso_sup))\n",
    "print('tiempo: {}'.format(fin - inicio))"
   ]
  },
  {
   "cell_type": "code",
   "execution_count": 42,
   "metadata": {},
   "outputs": [
    {
     "name": "stdout",
     "output_type": "stream",
     "text": [
      "7.8846181860398445\n",
      "4.757269059638559 de 5.0\n",
      "tiempo: 0:00:00\n"
     ]
    }
   ],
   "source": [
    "inicio = datetime.datetime.now()\n",
    "\n",
    "# Ranking valor / peso\n",
    "for i in range(N):\n",
    "    objetos[i]['rank'] = objetos[i]['valor'] / objetos[i]['peso']\n",
    "\n",
    "    # https://stackoverflow.com/a/73050\n",
    "ranked = sorted(objetos, key = lambda k: k['rank'])  \n",
    "\n",
    "ranked = ranked[::-1]\n",
    "\n",
    "peso_ranked = 0\n",
    "valor_ranked = 0\n",
    "hasta = -1\n",
    "caben = []\n",
    "\n",
    "for i in range(N):\n",
    "    if peso_ranked + ranked[i]['peso'] <= peso_sup:\n",
    "        peso_ranked += ranked[i]['peso']\n",
    "        valor_ranked += ranked[i]['valor']\n",
    "        caben.append(i)\n",
    "    else:\n",
    "        continue\n",
    "\n",
    "fin = datetime.datetime.now()\n",
    "        \n",
    "print(valor_ranked)\n",
    "print('{} de {}'.format(peso_ranked, peso_sup))\n",
    "print('tiempo: {}'.format(fin - inicio))"
   ]
  }
 ],
 "metadata": {
  "kernelspec": {
   "display_name": "Python 3",
   "language": "python",
   "name": "python3"
  },
  "language_info": {
   "codemirror_mode": {
    "name": "ipython",
    "version": 3
   },
   "file_extension": ".py",
   "mimetype": "text/x-python",
   "name": "python",
   "nbconvert_exporter": "python",
   "pygments_lexer": "ipython3",
   "version": "3.8.2"
  }
 },
 "nbformat": 4,
 "nbformat_minor": 4
}
