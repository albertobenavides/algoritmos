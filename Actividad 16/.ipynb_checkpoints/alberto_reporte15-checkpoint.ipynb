{
 "cells": [
  {
   "cell_type": "code",
   "execution_count": 78,
   "metadata": {},
   "outputs": [],
   "source": [
    "import random\n",
    "\n",
    "objetos = []\n",
    "\n",
    "N = 20\n",
    "\n",
    "for i in range(N):\n",
    "    objeto = {\n",
    "        \"peso\" : random.random(),\n",
    "        \"valor\" : random.random()\n",
    "    }\n",
    "    objetos.append(objeto)\n",
    "    \n",
    "#objetos\n",
    "\n",
    "peso_total = 0\n",
    "for i in range(N):\n",
    "    peso_total += objetos[i]['peso']"
   ]
  },
  {
   "cell_type": "code",
   "execution_count": 79,
   "metadata": {},
   "outputs": [
    {
     "data": {
      "text/plain": [
       "'100110011010100111'"
      ]
     },
     "execution_count": 79,
     "metadata": {},
     "output_type": "execute_result"
    }
   ],
   "source": [
    "peso_max = N / 4\n",
    "valor_max = 0\n",
    "mejor_subconjunto = \"\"\n",
    "\n",
    "for i in range(2**N):\n",
    "    subconjunto = i + 1\n",
    "    subconjunto = bin(subconjunto)[2:]\n",
    "    peso_local = 0\n",
    "    valor_local = 0\n",
    "    for j in range(len(subconjunto)):\n",
    "        if subconjunto[j] == \"1\":\n",
    "            peso_local += objetos[j]['peso']\n",
    "            if peso_local <= peso_max:\n",
    "                valor_local += objetos[j]['valor']\n",
    "            else:\n",
    "                break\n",
    "    if valor_local > valor_max:\n",
    "        valor_max = valor_local\n",
    "        mejor_subconjunto = subconjunto\n",
    "\n",
    "mejor_subconjunto"
   ]
  }
 ],
 "metadata": {
  "kernelspec": {
   "display_name": "Python 3",
   "language": "python",
   "name": "python3"
  },
  "language_info": {
   "codemirror_mode": {
    "name": "ipython",
    "version": 3
   },
   "file_extension": ".py",
   "mimetype": "text/x-python",
   "name": "python",
   "nbconvert_exporter": "python",
   "pygments_lexer": "ipython3",
   "version": "3.8.2"
  }
 },
 "nbformat": 4,
 "nbformat_minor": 4
}
