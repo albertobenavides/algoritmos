{
 "cells": [
  {
   "cell_type": "code",
   "execution_count": 35,
   "metadata": {},
   "outputs": [
    {
     "name": "stdout",
     "output_type": "stream",
     "text": [
      "peso_total = 11.520525098090802\n",
      "valor_total = 14.907865706369286\n"
     ]
    }
   ],
   "source": [
    "import random\n",
    "\n",
    "objetos = []\n",
    "\n",
    "N = 25\n",
    "\n",
    "for i in range(N):\n",
    "    objeto = {\n",
    "        \"peso\" : random.random(),\n",
    "        \"valor\" : random.random()\n",
    "    }\n",
    "    objetos.append(objeto)\n",
    "    \n",
    "#objetos\n",
    "\n",
    "peso_total = 0\n",
    "valor_total = 0\n",
    "for i in range(N):\n",
    "    peso_total += objetos[i]['peso']\n",
    "    valor_total += objetos[i]['valor']\n",
    "print('peso_total = {}'.format(peso_total))\n",
    "print('valor_total = {}'.format(valor_total))"
   ]
  },
  {
   "cell_type": "code",
   "execution_count": 36,
   "metadata": {},
   "outputs": [
    {
     "ename": "KeyboardInterrupt",
     "evalue": "",
     "output_type": "error",
     "traceback": [
      "\u001b[1;31m---------------------------------------------------------------------------\u001b[0m",
      "\u001b[1;31mKeyboardInterrupt\u001b[0m                         Traceback (most recent call last)",
      "\u001b[1;32m<ipython-input-36-79d0523a4948>\u001b[0m in \u001b[0;36m<module>\u001b[1;34m\u001b[0m\n\u001b[0;32m      9\u001b[0m     \u001b[0mpeso_local\u001b[0m \u001b[1;33m=\u001b[0m \u001b[1;36m0\u001b[0m\u001b[1;33m\u001b[0m\u001b[1;33m\u001b[0m\u001b[0m\n\u001b[0;32m     10\u001b[0m     \u001b[0mvalor_local\u001b[0m \u001b[1;33m=\u001b[0m \u001b[1;36m0\u001b[0m\u001b[1;33m\u001b[0m\u001b[1;33m\u001b[0m\u001b[0m\n\u001b[1;32m---> 11\u001b[1;33m     \u001b[1;32mfor\u001b[0m \u001b[0mj\u001b[0m \u001b[1;32min\u001b[0m \u001b[0mrange\u001b[0m\u001b[1;33m(\u001b[0m\u001b[0mlen\u001b[0m\u001b[1;33m(\u001b[0m\u001b[0msubconjunto\u001b[0m\u001b[1;33m)\u001b[0m\u001b[1;33m)\u001b[0m\u001b[1;33m:\u001b[0m\u001b[1;33m\u001b[0m\u001b[1;33m\u001b[0m\u001b[0m\n\u001b[0m\u001b[0;32m     12\u001b[0m         \u001b[1;32mif\u001b[0m \u001b[0msubconjunto\u001b[0m\u001b[1;33m[\u001b[0m\u001b[0mj\u001b[0m\u001b[1;33m]\u001b[0m \u001b[1;33m==\u001b[0m \u001b[1;34m\"1\"\u001b[0m\u001b[1;33m:\u001b[0m\u001b[1;33m\u001b[0m\u001b[1;33m\u001b[0m\u001b[0m\n\u001b[0;32m     13\u001b[0m             \u001b[0mpeso_local\u001b[0m \u001b[1;33m+=\u001b[0m \u001b[0mobjetos\u001b[0m\u001b[1;33m[\u001b[0m\u001b[0mj\u001b[0m\u001b[1;33m]\u001b[0m\u001b[1;33m[\u001b[0m\u001b[1;34m'peso'\u001b[0m\u001b[1;33m]\u001b[0m\u001b[1;33m\u001b[0m\u001b[1;33m\u001b[0m\u001b[0m\n",
      "\u001b[1;31mKeyboardInterrupt\u001b[0m: "
     ]
    }
   ],
   "source": [
    "peso_sup = N / 4\n",
    "\n",
    "inicio = datetime.datetime.now()\n",
    "peso_max = 0\n",
    "valor_max = 0\n",
    "mejor_subconjunto = \"\"\n",
    "\n",
    "for i in range(2**N):\n",
    "    subconjunto = i + 1\n",
    "    subconjunto = bin(subconjunto)[2:]\n",
    "    peso_local = 0\n",
    "    valor_local = 0\n",
    "    for j in range(len(subconjunto)):\n",
    "        if subconjunto[j] == \"1\":\n",
    "            peso_local += objetos[j]['peso']\n",
    "            if peso_local <= peso_sup:\n",
    "                valor_local += objetos[j]['valor']\n",
    "            else:\n",
    "                break\n",
    "    if valor_local > valor_max:\n",
    "        valor_max = valor_local\n",
    "        peso_max = peso_local\n",
    "        mejor_subconjunto = subconjunto\n",
    "\n",
    "fin = datetime.datetime.now()\n",
    "\n",
    "print(mejor_subconjunto)\n",
    "print(valor_max)\n",
    "print('{} de {}'.format(peso_max, peso_sup))\n",
    "print('tiempo: {}'.format(fin - inicio))"
   ]
  },
  {
   "cell_type": "code",
   "execution_count": 37,
   "metadata": {},
   "outputs": [
    {
     "ename": "NameError",
     "evalue": "name 'datetime' is not defined",
     "output_type": "error",
     "traceback": [
      "\u001b[1;31m---------------------------------------------------------------------------\u001b[0m",
      "\u001b[1;31mNameError\u001b[0m                                 Traceback (most recent call last)",
      "\u001b[1;32m<ipython-input-37-cfd92538fc87>\u001b[0m in \u001b[0;36m<module>\u001b[1;34m\u001b[0m\n\u001b[1;32m----> 1\u001b[1;33m \u001b[0minicio\u001b[0m \u001b[1;33m=\u001b[0m \u001b[0mdatetime\u001b[0m\u001b[1;33m.\u001b[0m\u001b[0mdatetime\u001b[0m\u001b[1;33m.\u001b[0m\u001b[0mnow\u001b[0m\u001b[1;33m(\u001b[0m\u001b[1;33m)\u001b[0m\u001b[1;33m\u001b[0m\u001b[1;33m\u001b[0m\u001b[0m\n\u001b[0m\u001b[0;32m      2\u001b[0m \u001b[1;33m\u001b[0m\u001b[0m\n\u001b[0;32m      3\u001b[0m \u001b[1;31m# Ranking valor / peso\u001b[0m\u001b[1;33m\u001b[0m\u001b[1;33m\u001b[0m\u001b[1;33m\u001b[0m\u001b[0m\n\u001b[0;32m      4\u001b[0m \u001b[1;32mfor\u001b[0m \u001b[0mi\u001b[0m \u001b[1;32min\u001b[0m \u001b[0mrange\u001b[0m\u001b[1;33m(\u001b[0m\u001b[0mN\u001b[0m\u001b[1;33m)\u001b[0m\u001b[1;33m:\u001b[0m\u001b[1;33m\u001b[0m\u001b[1;33m\u001b[0m\u001b[0m\n\u001b[0;32m      5\u001b[0m     \u001b[0mobjetos\u001b[0m\u001b[1;33m[\u001b[0m\u001b[0mi\u001b[0m\u001b[1;33m]\u001b[0m\u001b[1;33m[\u001b[0m\u001b[1;34m'rank'\u001b[0m\u001b[1;33m]\u001b[0m \u001b[1;33m=\u001b[0m \u001b[0mobjetos\u001b[0m\u001b[1;33m[\u001b[0m\u001b[0mi\u001b[0m\u001b[1;33m]\u001b[0m\u001b[1;33m[\u001b[0m\u001b[1;34m'valor'\u001b[0m\u001b[1;33m]\u001b[0m \u001b[1;33m/\u001b[0m \u001b[0mobjetos\u001b[0m\u001b[1;33m[\u001b[0m\u001b[0mi\u001b[0m\u001b[1;33m]\u001b[0m\u001b[1;33m[\u001b[0m\u001b[1;34m'peso'\u001b[0m\u001b[1;33m]\u001b[0m\u001b[1;33m\u001b[0m\u001b[1;33m\u001b[0m\u001b[0m\n",
      "\u001b[1;31mNameError\u001b[0m: name 'datetime' is not defined"
     ]
    }
   ],
   "source": [
    "inicio = datetime.datetime.now()\n",
    "\n",
    "# Ranking valor / peso\n",
    "for i in range(N):\n",
    "    objetos[i]['rank'] = objetos[i]['valor'] / objetos[i]['peso']\n",
    "\n",
    "    # https://stackoverflow.com/a/73050\n",
    "ranked = sorted(objetos, key = lambda k: k['rank'])  \n",
    "\n",
    "ranked = ranked[::-1]\n",
    "\n",
    "peso_ranked = 0\n",
    "valor_ranked = 0\n",
    "hasta = -1\n",
    "caben = []\n",
    "\n",
    "for i in range(N):\n",
    "    if peso_ranked + ranked[i]['peso'] <= peso_sup:\n",
    "        peso_ranked += ranked[i]['peso']\n",
    "        valor_ranked += ranked[i]['valor']\n",
    "        caben.append(i)\n",
    "    else:\n",
    "        continue\n",
    "\n",
    "fin = datetime.datetime.now()\n",
    "        \n",
    "print(valor_ranked)\n",
    "print('{} de {}'.format(peso_ranked, peso_sup))\n",
    "print('tiempo: {}'.format(fin - inicio))"
   ]
  }
 ],
 "metadata": {
  "kernelspec": {
   "display_name": "Python 3",
   "language": "python",
   "name": "python3"
  },
  "language_info": {
   "codemirror_mode": {
    "name": "ipython",
    "version": 3
   },
   "file_extension": ".py",
   "mimetype": "text/x-python",
   "name": "python",
   "nbconvert_exporter": "python",
   "pygments_lexer": "ipython3",
   "version": "3.8.2"
  }
 },
 "nbformat": 4,
 "nbformat_minor": 4
}
