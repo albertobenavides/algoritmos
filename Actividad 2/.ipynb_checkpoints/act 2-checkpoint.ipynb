{
 "cells": [
  {
   "cell_type": "markdown",
   "metadata": {},
   "source": [
    "# Actividad 2: Comparación de tiempos de ejecución entre algoritmos iterativos y recursivos para 3 problemas generales\n",
    "###### Alberto Benavides"
   ]
  },
  {
   "cell_type": "markdown",
   "metadata": {},
   "source": [
    "En esta actividad se desea comparar el desempeño en tiemmpo de ejecución de tres algoritmos en sus versiones recursivas e iterativas. Se trata de 1) un algoritmo para calcular el valor del elemento de la serie Fibonacci dada su posición, 2) el factorial de un número y 3) un algoritmo para determinar si una cadena de texto es palíndroma."
   ]
  },
  {
   "cell_type": "markdown",
   "metadata": {},
   "source": [
    "## Fibonacci"
   ]
  },
  {
   "cell_type": "markdown",
   "metadata": {},
   "source": [
    "La serie Fibonacci es una serie en que cada elemento es una suma de los dos anteriores, teniendo como elementos iniciales $f_0=0$ y $f_1 = 1$, de modo que para todos los demás elementos se sigue\n",
    "$$f_n = f_{n-2} + f_{n-1}.$$"
   ]
  },
  {
   "cell_type": "markdown",
   "metadata": {},
   "source": [
    "Ahora, se definirá este algoritmo en su vertiente recursiva"
   ]
  },
  {
   "cell_type": "code",
   "execution_count": 23,
   "metadata": {},
   "outputs": [],
   "source": [
    "def FibRecursivo(n):\n",
    "    if n < 2:\n",
    "        return n\n",
    "    else:\n",
    "        return FibRecursivo(n-2) + FibRecursivo(n-1)"
   ]
  },
  {
   "cell_type": "markdown",
   "metadata": {},
   "source": [
    "e iterativa"
   ]
  },
  {
   "cell_type": "code",
   "execution_count": 24,
   "metadata": {},
   "outputs": [],
   "source": [
    "def FibIterativo(n):\n",
    "    a = 0\n",
    "    b = 1\n",
    "    for x in range(n - 1):\n",
    "        t = b\n",
    "        b = b + a\n",
    "        a = t\n",
    "    return b"
   ]
  },
  {
   "cell_type": "markdown",
   "metadata": {},
   "source": [
    "Para comprobar que estos algoritmos funcionan, se puede usar como variable de entrada un número $20 < r < 50$ obtenido de una distribución normal aleatoria de la librería [random](https://docs.python.org/3/library/random.html) de Python."
   ]
  },
  {
   "cell_type": "code",
   "execution_count": 125,
   "metadata": {},
   "outputs": [
    {
     "data": {
      "text/plain": [
       "True"
      ]
     },
     "execution_count": 125,
     "metadata": {},
     "output_type": "execute_result"
    }
   ],
   "source": [
    "from random import randint\n",
    "\n",
    "r = randint(20, 30)\n",
    "FibRecursivo(r) == FibIterativo(r)"
   ]
  },
  {
   "cell_type": "markdown",
   "metadata": {},
   "source": [
    "## Factorial"
   ]
  },
  {
   "cell_type": "markdown",
   "metadata": {},
   "source": [
    "El factorial de un número $n$ es el producto de todos los números enteros desde el $1$ hasta dicho número. Es decir, el factorial de $5$, denotado por $5!$ es\n",
    "$$5! = 1 \\times 2 \\times 3 \\times 4 \\times 5.$$"
   ]
  },
  {
   "cell_type": "markdown",
   "metadata": {},
   "source": [
    "Para calcular recursivamente el factorial de un número se puede ejecutar esta función"
   ]
  },
  {
   "cell_type": "code",
   "execution_count": 26,
   "metadata": {},
   "outputs": [],
   "source": [
    "def FacRecursivo(n):\n",
    "    if n > 1:\n",
    "        return n * FacRecursivo(n - 1)\n",
    "    else:\n",
    "        return n"
   ]
  },
  {
   "cell_type": "markdown",
   "metadata": {},
   "source": [
    "mientras que el cálculo iterativo se realiza como sigue"
   ]
  },
  {
   "cell_type": "code",
   "execution_count": 126,
   "metadata": {},
   "outputs": [],
   "source": [
    "def FacIterativo(n):\n",
    "    total = 1\n",
    "    for x in range(n):\n",
    "        total *= (n - x)\n",
    "    return total"
   ]
  },
  {
   "cell_type": "markdown",
   "metadata": {},
   "source": [
    "Para este algoritmo se procede de manera análoga a la comprobación hecha en Fibonacci"
   ]
  },
  {
   "cell_type": "code",
   "execution_count": 28,
   "metadata": {},
   "outputs": [
    {
     "data": {
      "text/plain": [
       "True"
      ]
     },
     "execution_count": 28,
     "metadata": {},
     "output_type": "execute_result"
    }
   ],
   "source": [
    "r = randint(20, 50)\n",
    "FacRecursivo(r) == FacIterativo(r)"
   ]
  },
  {
   "cell_type": "markdown",
   "metadata": {},
   "source": [
    "## Palíndromo"
   ]
  },
  {
   "cell_type": "markdown",
   "metadata": {},
   "source": [
    "Un palíndromo es una palabra que es idéntica escrita originalmente que al revés. En programación se llama cadena de texto un conjunto de caracteres agrupados uno tras otro. Esto es lo más parecido a una palabra en términos computacionales, por lo que se usará esta estructura para generar palíndromos. Para este fin, se desarrolla un algoritmo que generara cadenas palíndromas aleatorios de longiud $l \\times 2$ a partir de la siguiente función:"
   ]
  },
  {
   "cell_type": "code",
   "execution_count": 127,
   "metadata": {},
   "outputs": [],
   "source": [
    "from string import ascii_lowercase\n",
    "from random import choice, shuffle\n",
    "\n",
    "def PalAleatorio(l):\n",
    "    letras = ascii_lowercase\n",
    "    pal = ''.join(choice(letras) for i in range(l))\n",
    "    # https://www.educative.io/edpresso/how-do-you-reverse-a-string-in-python\n",
    "    pal += pal[::-1]\n",
    "    # Desordenar cadenas\n",
    "    '''\n",
    "    if randint(0, 1) == 1:\n",
    "        t = list(pal)\n",
    "        shuffle(t)\n",
    "        pal = ''.join(t)\n",
    "    '''\n",
    "    return pal"
   ]
  },
  {
   "cell_type": "markdown",
   "metadata": {},
   "source": [
    "Con esto, ya se puede comprobar si el resultado es el mismo para el algoritmo recursivo"
   ]
  },
  {
   "cell_type": "code",
   "execution_count": 128,
   "metadata": {},
   "outputs": [],
   "source": [
    "def PalRecursivo(s):\n",
    "    if(len(s) == 0 or len(s) == 1):\n",
    "        return True\n",
    "    elif s[0] != s[-1]:\n",
    "        return False\n",
    "    else:\n",
    "        return PalRecursivo(s[1: -1])"
   ]
  },
  {
   "cell_type": "markdown",
   "metadata": {},
   "source": [
    "e iterativo"
   ]
  },
  {
   "cell_type": "code",
   "execution_count": 129,
   "metadata": {},
   "outputs": [],
   "source": [
    "def PalIterativo(s):\n",
    "    if(len(s) == 0 or len(s) == 1):\n",
    "        return True\n",
    "    for x in range(len(s) // 2):\n",
    "        if s[x] != s[(x + 1) * -1]:\n",
    "            return False\n",
    "    return True"
   ]
  },
  {
   "cell_type": "markdown",
   "metadata": {},
   "source": [
    "de esta manera"
   ]
  },
  {
   "cell_type": "code",
   "execution_count": 130,
   "metadata": {},
   "outputs": [
    {
     "data": {
      "text/plain": [
       "True"
      ]
     },
     "execution_count": 130,
     "metadata": {},
     "output_type": "execute_result"
    }
   ],
   "source": [
    "r = randint(20, 50)\n",
    "s = PalAleatorio(r)\n",
    "\n",
    "PalRecursivo(s) == PalIterativo(s)"
   ]
  },
  {
   "cell_type": "markdown",
   "metadata": {},
   "source": [
    "## Experimentación"
   ]
  },
  {
   "cell_type": "markdown",
   "metadata": {},
   "source": [
    "Ahora se medirán tiempos de ejecución comparando estos tres algoritmos de manera iterativa y recursiva. Para ello se utiliza la librería [timeit](https://docs.python.org/3.8/library/timeit.html) que permite medir el tiempo de ejecución de determinado número de repeticiones de un algoritmo. Para esta serie de experimentos computacionales, se eligen 100 repeticiones. Se ha optado por utilizar esta librería puesto que la librería [time](https://docs.python.org/3/library/time.html) requiere se especifiquen las repeticiones del experimento, lo que inhibe los procesos\n",
    "\n",
    "### Fibonacci"
   ]
  },
  {
   "cell_type": "code",
   "execution_count": 34,
   "metadata": {},
   "outputs": [],
   "source": [
    "import timeit\n",
    "\n",
    "nFib = []\n",
    "recFib = []\n",
    "iteFib = []\n",
    "\n",
    "for x in range(1, 30):\n",
    "    nFib.append(x)\n",
    "    if __name__ == '__main__':\n",
    "        recFib.append(timeit.timeit(\"FibRecursivo({})\".format(x), setup=\"from __main__ import FibRecursivo\", number=100))\n",
    "        iteFib.append(timeit.timeit(\"FibIterativo({})\".format(x), setup=\"from __main__ import FibIterativo\", number=100))"
   ]
  },
  {
   "cell_type": "code",
   "execution_count": 35,
   "metadata": {},
   "outputs": [
    {
     "data": {
      "image/png": "[encoded data removed]",
      "text/plain": [
       "<Figure size 432x288 with 1 Axes>"
      ]
     },
     "metadata": {
      "needs_background": "light"
     },
     "output_type": "display_data"
    }
   ],
   "source": [
    "import matplotlib.pyplot as plt\n",
    "\n",
    "plt.plot(nFib, recFib, c=\"red\", label=\"Recursivo\")\n",
    "plt.plot(nFib, iteFib, c=\"blue\", label=\"Iterativo\")\n",
    "plt.xlabel(\"Posición en Fibonacci\")\n",
    "plt.ylabel(\"Tiempo ($s$)\")\n",
    "plt.legend()\n",
    "plt.show()"
   ]
  },
  {
   "cell_type": "markdown",
   "metadata": {},
   "source": [
    "Se repetirá para el iterativo con muchas más repeticiones, para ver su comportamiento de manera individual."
   ]
  },
  {
   "cell_type": "code",
   "execution_count": 36,
   "metadata": {},
   "outputs": [],
   "source": [
    "nFib = []\n",
    "iteFib = []\n",
    "\n",
    "for x in range(500):\n",
    "    nFib.append(x) \n",
    "    if __name__ == '__main__':\n",
    "        iteFib.append(timeit.timeit(\"FibIterativo({})\".format(x), setup=\"from __main__ import FibIterativo\", number=100))"
   ]
  },
  {
   "cell_type": "code",
   "execution_count": 37,
   "metadata": {},
   "outputs": [
    {
     "data": {
      "image/png": "[encoded data removed]",
      "text/plain": [
       "<Figure size 432x288 with 1 Axes>"
      ]
     },
     "metadata": {
      "needs_background": "light"
     },
     "output_type": "display_data"
    }
   ],
   "source": [
    "plt.plot(nFib, iteFib, c=\"blue\", label=\"Iterativo\")\n",
    "plt.xlabel(\"Posición en Fibonacci\")\n",
    "plt.ylabel(\"Tiempo ($s$)\")\n",
    "plt.legend()\n",
    "plt.show()"
   ]
  },
  {
   "cell_type": "markdown",
   "metadata": {},
   "source": [
    "### Factorial"
   ]
  },
  {
   "cell_type": "code",
   "execution_count": 94,
   "metadata": {},
   "outputs": [],
   "source": [
    "nFac = []\n",
    "recFac = []\n",
    "iteFac = []\n",
    "\n",
    "for x in range(1, 500):\n",
    "    nFac.append(x)\n",
    "    if __name__ == '__main__':\n",
    "        recFac.append(timeit.timeit(\"FacRecursivo({})\".format(x), setup=\"from __main__ import FacRecursivo\", number=100))\n",
    "        iteFac.append(timeit.timeit(\"FacIterativo({})\".format(x), setup=\"from __main__ import FacIterativo\", number=100))"
   ]
  },
  {
   "cell_type": "code",
   "execution_count": 95,
   "metadata": {},
   "outputs": [
    {
     "data": {
      "image/png": "[encoded data removed]",
      "text/plain": [
       "<Figure size 432x288 with 1 Axes>"
      ]
     },
     "metadata": {
      "needs_background": "light"
     },
     "output_type": "display_data"
    }
   ],
   "source": [
    "plt.plot(nFac, recFac, c=\"red\", label=\"Recursivo\")\n",
    "plt.plot(nFac, iteFac, c=\"blue\", label=\"Iterativo\")\n",
    "plt.xlabel(\"Factorial\")\n",
    "plt.ylabel(\"Tiempo ($s$)\")\n",
    "plt.legend()\n",
    "plt.show()"
   ]
  },
  {
   "cell_type": "markdown",
   "metadata": {},
   "source": [
    "### Palíndromos"
   ]
  },
  {
   "cell_type": "code",
   "execution_count": 123,
   "metadata": {},
   "outputs": [],
   "source": [
    "nPal = []\n",
    "recPal = []\n",
    "itePal = []\n",
    "\n",
    "for x in range(1, 500):\n",
    "    nPal.append(x)\n",
    "    s = PalAleatorio(x)\n",
    "    recPal.append(timeit.timeit(stmt=\"PalRecursivo('{}')\".format(s), setup=\"from __main__ import PalRecursivo\", number=100))\n",
    "    itePal.append(timeit.timeit(stmt=\"PalIterativo('{}')\".format(s), setup=\"from __main__ import PalIterativo\", number=100))"
   ]
  },
  {
   "cell_type": "code",
   "execution_count": 124,
   "metadata": {},
   "outputs": [
    {
     "data": {
      "image/png": "[encoded data removed]",
      "text/plain": [
       "<Figure size 432x288 with 1 Axes>"
      ]
     },
     "metadata": {
      "needs_background": "light"
     },
     "output_type": "display_data"
    }
   ],
   "source": [
    "plt.plot(nPal, recPal, c=\"red\", label=\"Recursivo\")\n",
    "plt.plot(nPal, itePal, c=\"blue\", label=\"Iterativo\")\n",
    "plt.xlabel(\"Letras del palíndromo\")\n",
    "plt.ylabel(\"Tiempo ($s$)\")\n",
    "plt.legend()\n",
    "plt.show()"
   ]
  },
  {
   "cell_type": "markdown",
   "metadata": {},
   "source": [
    "## Conclusiones\n",
    "\n",
    "Todos los algoritmos han probado ser más rápidos en su versión iterativa respecto a su misma versión recursiva. Este comportamiento puede ser explicable debido a la pila de llamadas que se acumulan al llamarse una función a sí misma de manera recursiva. Es probable que estos algoritmos sean más rápidos si se trabajan con múltiples procesadores que permitas distribuir funciones en distintos hilos de procesamiento, lo cual suele ser irrealizable con funciones iterativas que dependen de secuencias anteriores para proceder.\n",
    "\n",
    "Por otro lado, resalta el crecimiento exponencial del algoritmo recursivo de Fibonacci que puede explicarse debido a que conforme crece la posición del valor calculado, las llamadas crecen exponencialmente, ramificándose dos a la vez.\n",
    "\n",
    "De esta manera, se puede concluir que es recomendable ejecutar algoritmos iterativos si no se dispone de varios núcleos de procesammiento, mientras que sería preferible optar por versiones iterativas de algoritmos en caso contrario."
   ]
  }
 ],
 "metadata": {
  "kernelspec": {
   "display_name": "Python 3",
   "language": "python",
   "name": "python3"
  },
  "language_info": {
   "codemirror_mode": {
    "name": "ipython",
    "version": 3
   },
   "file_extension": ".py",
   "mimetype": "text/x-python",
   "name": "python",
   "nbconvert_exporter": "python",
   "pygments_lexer": "ipython3",
   "version": "3.8.1"
  }
 },
 "nbformat": 4,
 "nbformat_minor": 4
}
