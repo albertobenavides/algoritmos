{
 "cells": [
  {
   "cell_type": "markdown",
   "metadata": {},
   "source": [
    "# Actividad 2: Comparación de tiempos de ejecución entre algoritmos iterativos y recursivos para 3 problemas generales\n",
    "###### Alberto Benavides"
   ]
  },
  {
   "cell_type": "markdown",
   "metadata": {},
   "source": [
    "## Fibonacci"
   ]
  },
  {
   "cell_type": "markdown",
   "metadata": {},
   "source": [
    "Vamos a empezar por Fibonacci recursivo:"
   ]
  },
  {
   "cell_type": "code",
   "execution_count": 135,
   "metadata": {},
   "outputs": [],
   "source": [
    "def FibRecursivo(n):\n",
    "    if n < 2:\n",
    "        return n\n",
    "    else:\n",
    "        return FibRecursivo(n-2) + FibRecursivo(n-1)"
   ]
  },
  {
   "cell_type": "markdown",
   "metadata": {},
   "source": [
    "Ahora el iterativo de Fibonacci:"
   ]
  },
  {
   "cell_type": "code",
   "execution_count": 136,
   "metadata": {},
   "outputs": [],
   "source": [
    "def FibIterativo(n):\n",
    "    a = 0\n",
    "    b = 1\n",
    "    for x in range(n - 1):\n",
    "        t = b\n",
    "        b = b + a\n",
    "        a = t\n",
    "    return b"
   ]
  },
  {
   "cell_type": "markdown",
   "metadata": {},
   "source": [
    "Ahora comprobamos que funcionen igual. Para ello usaremos algún número $20 < r < 50$ obtenido de una distribución normal aleatoria de la librería [random](https://docs.python.org/3/library/random.html) de Python."
   ]
  },
  {
   "cell_type": "code",
   "execution_count": 137,
   "metadata": {},
   "outputs": [
    {
     "data": {
      "text/plain": [
       "True"
      ]
     },
     "execution_count": 137,
     "metadata": {},
     "output_type": "execute_result"
    }
   ],
   "source": [
    "from random import randint\n",
    "\n",
    "r = randint(20, 30)\n",
    "FibRecursivo(r) == FibIterativo(r)"
   ]
  },
  {
   "cell_type": "markdown",
   "metadata": {},
   "source": [
    "## Factorial"
   ]
  },
  {
   "cell_type": "markdown",
   "metadata": {},
   "source": [
    "Ahora, un recursivo de factorial:"
   ]
  },
  {
   "cell_type": "code",
   "execution_count": 138,
   "metadata": {},
   "outputs": [],
   "source": [
    "def FacRecursivo(n):\n",
    "    if n > 1:\n",
    "        return n * FacRecursivo(n - 1)\n",
    "    else:\n",
    "        return n"
   ]
  },
  {
   "cell_type": "markdown",
   "metadata": {},
   "source": [
    "Y el iterativo:"
   ]
  },
  {
   "cell_type": "code",
   "execution_count": 139,
   "metadata": {},
   "outputs": [],
   "source": [
    "def FacIterativo(n):\n",
    "    total = 1\n",
    "    for x in range(n):\n",
    "        total *= (n - x)\n",
    "    return total\n"
   ]
  },
  {
   "cell_type": "markdown",
   "metadata": {},
   "source": [
    "Y comprobar si es verdad:"
   ]
  },
  {
   "cell_type": "code",
   "execution_count": 140,
   "metadata": {},
   "outputs": [
    {
     "data": {
      "text/plain": [
       "True"
      ]
     },
     "execution_count": 140,
     "metadata": {},
     "output_type": "execute_result"
    }
   ],
   "source": [
    "r = randint(20, 50)\n",
    "FacRecursivo(r) == FacIterativo(r)"
   ]
  },
  {
   "cell_type": "markdown",
   "metadata": {},
   "source": [
    "Wow, todo va bien."
   ]
  },
  {
   "cell_type": "markdown",
   "metadata": {},
   "source": [
    "## Palíndromo"
   ]
  },
  {
   "cell_type": "markdown",
   "metadata": {},
   "source": [
    "Por último, se revisará un algoritmo que revisa si una cadena de texto es palíndromo. Primero el recursivo:"
   ]
  },
  {
   "cell_type": "code",
   "execution_count": 141,
   "metadata": {},
   "outputs": [],
   "source": [
    "def PalRecursivo(s):\n",
    "    if(len(s) == 0 or len(s) == 1):\n",
    "        return 1\n",
    "    elif s[0] != s[-1]:\n",
    "        return 0\n",
    "    else:\n",
    "        return PalRecursivo(str(s[1: -1]))"
   ]
  },
  {
   "cell_type": "markdown",
   "metadata": {},
   "source": [
    "Y también el iterativo:"
   ]
  },
  {
   "cell_type": "code",
   "execution_count": 142,
   "metadata": {},
   "outputs": [],
   "source": [
    "def PalIterativo(s):\n",
    "    if(len(s) == 0 or len(s) == 1):\n",
    "        return 1\n",
    "    for x in range(len(s) // 2):\n",
    "        if s[x] != s[(x + 1) * -1]:\n",
    "            return 0\n",
    "    return 1"
   ]
  },
  {
   "cell_type": "markdown",
   "metadata": {},
   "source": [
    "Para probar que estos algoritmos determinan si las cadenas son palíndromos, se generarán palíndromos aleatorios de longiud $l \\times 2$ a partir de la siguiente función:"
   ]
  },
  {
   "cell_type": "code",
   "execution_count": 143,
   "metadata": {},
   "outputs": [],
   "source": [
    "from string import ascii_lowercase\n",
    "from random import choice, shuffle\n",
    "\n",
    "def PalAleatorio(l):\n",
    "    letras = ascii_lowercase\n",
    "    pal = ''.join(choice(letras) for i in range(l))\n",
    "    # https://www.educative.io/edpresso/how-do-you-reverse-a-string-in-python\n",
    "    pal += pal[::-1]\n",
    "    # Desordenar cadenas\n",
    "    '''\n",
    "    if randint(0, 1) == 1:\n",
    "        t = list(pal)\n",
    "        shuffle(t)\n",
    "        pal = ''.join(t)\n",
    "    '''\n",
    "    return pal"
   ]
  },
  {
   "cell_type": "markdown",
   "metadata": {},
   "source": [
    "Con esto, ya se puede comprobar si el resultado es el mismo:"
   ]
  },
  {
   "cell_type": "code",
   "execution_count": 144,
   "metadata": {},
   "outputs": [],
   "source": [
    "r = randint(20, 50)\n",
    "s = PalAleatorio(r)"
   ]
  },
  {
   "cell_type": "code",
   "execution_count": 145,
   "metadata": {},
   "outputs": [
    {
     "data": {
      "text/plain": [
       "True"
      ]
     },
     "execution_count": 145,
     "metadata": {},
     "output_type": "execute_result"
    }
   ],
   "source": [
    "PalRecursivo(s) == PalIterativo(s)"
   ]
  },
  {
   "cell_type": "markdown",
   "metadata": {},
   "source": [
    "## Experimentación"
   ]
  },
  {
   "cell_type": "markdown",
   "metadata": {},
   "source": [
    "Ahora se medirán tiempos de ejecución comparando estos tres algoritmos de manera iterativa y recursiva. Primero el algoritmo de Fibonacci:"
   ]
  },
  {
   "cell_type": "code",
   "execution_count": 146,
   "metadata": {},
   "outputs": [],
   "source": [
    "import timeit\n",
    "\n",
    "nFib = []\n",
    "recFib = []\n",
    "iteFib = []\n",
    "\n",
    "for x in range(1, 30):\n",
    "    nFib.append(x)\n",
    "    if __name__ == '__main__':\n",
    "        recFib.append(timeit.timeit(\"FibRecursivo(\" + str(x) +\")\", setup=\"from __main__ import FibRecursivo\", number=1000))\n",
    "        iteFib.append(timeit.timeit(\"FibIterativo(\" + str(x) +\")\", setup=\"from __main__ import FibIterativo\", number=1000))"
   ]
  },
  {
   "cell_type": "code",
   "execution_count": 147,
   "metadata": {},
   "outputs": [
    {
     "data": {
      "image/png": "[encoded data removed]",
      "text/plain": [
       "<Figure size 432x288 with 1 Axes>"
      ]
     },
     "metadata": {
      "needs_background": "light"
     },
     "output_type": "display_data"
    }
   ],
   "source": [
    "import matplotlib.pyplot as plt\n",
    "\n",
    "plt.plot(nFib, recFib, c=\"red\", label=\"Recursivo\")\n",
    "plt.plot(nFib, iteFib, c=\"blue\", label=\"Iterativo\")\n",
    "plt.xlabel(\"Posición en Fibonacci\")\n",
    "plt.ylabel(\"Tiempo ($s$)\")\n",
    "plt.legend()\n",
    "plt.show()"
   ]
  },
  {
   "cell_type": "markdown",
   "metadata": {},
   "source": [
    "Se repetirá para el iterativo con muchas más repeticiones, para ver su comportamiento de manera individual:"
   ]
  },
  {
   "cell_type": "code",
   "execution_count": 168,
   "metadata": {},
   "outputs": [],
   "source": [
    "nFib = []\n",
    "iteFib = []\n",
    "\n",
    "for x in range(1, 1000):\n",
    "    nFib.append(x)\n",
    "    if __name__ == '__main__':\n",
    "        iteFib.append(timeit.timeit(\"FibIterativo(\" + str(x) +\")\", setup=\"from __main__ import FibIterativo\", number=1000))"
   ]
  },
  {
   "cell_type": "code",
   "execution_count": 169,
   "metadata": {},
   "outputs": [
    {
     "data": {
      "image/png": "[encoded data removed]",
      "text/plain": [
       "<Figure size 432x288 with 1 Axes>"
      ]
     },
     "metadata": {
      "needs_background": "light"
     },
     "output_type": "display_data"
    }
   ],
   "source": [
    "plt.plot(nFib, iteFib, c=\"blue\", label=\"Iterativo\")\n",
    "plt.xlabel(\"Posición en Fibonacci\")\n",
    "plt.ylabel(\"Tiempo ($s$)\")\n",
    "plt.legend()\n",
    "plt.show()"
   ]
  },
  {
   "cell_type": "markdown",
   "metadata": {},
   "source": [
    "Ahora el del factorial de un número:"
   ]
  },
  {
   "cell_type": "code",
   "execution_count": 159,
   "metadata": {},
   "outputs": [],
   "source": [
    "nFac = []\n",
    "recFac = []\n",
    "iteFac = []\n",
    "\n",
    "for x in range(1, 1000):\n",
    "    nFac.append(x)\n",
    "    if __name__ == '__main__':\n",
    "        recFac.append(timeit.timeit(\"FacRecursivo(\" + str(x) +\")\", setup=\"from __main__ import FacRecursivo\", number=1000))\n",
    "        iteFac.append(timeit.timeit(\"FacIterativo(\" + str(x) +\")\", setup=\"from __main__ import FacIterativo\", number=1000))"
   ]
  },
  {
   "cell_type": "code",
   "execution_count": 163,
   "metadata": {},
   "outputs": [
    {
     "data": {
      "image/png": "[encoded data removed]",
      "text/plain": [
       "<Figure size 432x288 with 1 Axes>"
      ]
     },
     "metadata": {
      "needs_background": "light"
     },
     "output_type": "display_data"
    }
   ],
   "source": [
    "plt.plot(nFac, recFac, c=\"red\", label=\"Recursivo\")\n",
    "plt.plot(nFac, iteFac, c=\"blue\", label=\"Iterativo\")\n",
    "plt.xlabel(\"Factorial\")\n",
    "plt.ylabel(\"Tiempo ($s$)\")\n",
    "plt.legend()\n",
    "plt.show()"
   ]
  },
  {
   "cell_type": "markdown",
   "metadata": {},
   "source": [
    "Por último los palíndromos:"
   ]
  },
  {
   "cell_type": "code",
   "execution_count": 185,
   "metadata": {},
   "outputs": [
    {
     "name": "stdout",
     "output_type": "stream",
     "text": [
      "572 ns ± 227 ns per loop (mean ± std. dev. of 7 runs, 1000 loops each)\n",
      "836 ns ± 270 ns per loop (mean ± std. dev. of 7 runs, 1000 loops each)\n",
      "803 ns ± 35.9 ns per loop (mean ± std. dev. of 7 runs, 1000 loops each)\n",
      "569 ns ± 13 ns per loop (mean ± std. dev. of 7 runs, 1000 loops each)\n",
      "1.33 µs ± 232 ns per loop (mean ± std. dev. of 7 runs, 1000 loops each)\n",
      "697 ns ± 108 ns per loop (mean ± std. dev. of 7 runs, 1000 loops each)\n",
      "1.63 µs ± 207 ns per loop (mean ± std. dev. of 7 runs, 1000 loops each)\n",
      "744 ns ± 45.4 ns per loop (mean ± std. dev. of 7 runs, 1000 loops each)\n",
      "1.86 µs ± 89 ns per loop (mean ± std. dev. of 7 runs, 1000 loops each)\n",
      "884 ns ± 46.6 ns per loop (mean ± std. dev. of 7 runs, 1000 loops each)\n",
      "2.21 µs ± 44.9 ns per loop (mean ± std. dev. of 7 runs, 1000 loops each)\n",
      "963 ns ± 46.1 ns per loop (mean ± std. dev. of 7 runs, 1000 loops each)\n",
      "2.58 µs ± 29.9 ns per loop (mean ± std. dev. of 7 runs, 1000 loops each)\n",
      "1.07 µs ± 24.8 ns per loop (mean ± std. dev. of 7 runs, 1000 loops each)\n",
      "2.92 µs ± 28.6 ns per loop (mean ± std. dev. of 7 runs, 1000 loops each)\n",
      "1.16 µs ± 25.8 ns per loop (mean ± std. dev. of 7 runs, 1000 loops each)\n",
      "3.17 µs ± 68.2 ns per loop (mean ± std. dev. of 7 runs, 1000 loops each)\n",
      "1.2 µs ± 19.6 ns per loop (mean ± std. dev. of 7 runs, 1000 loops each)\n",
      "3.47 µs ± 24.4 ns per loop (mean ± std. dev. of 7 runs, 1000 loops each)\n",
      "1.29 µs ± 20.2 ns per loop (mean ± std. dev. of 7 runs, 1000 loops each)\n",
      "3.82 µs ± 64.9 ns per loop (mean ± std. dev. of 7 runs, 1000 loops each)\n",
      "1.4 µs ± 80.5 ns per loop (mean ± std. dev. of 7 runs, 1000 loops each)\n",
      "4.32 µs ± 292 ns per loop (mean ± std. dev. of 7 runs, 1000 loops each)\n",
      "1.54 µs ± 69.5 ns per loop (mean ± std. dev. of 7 runs, 1000 loops each)\n",
      "4.58 µs ± 134 ns per loop (mean ± std. dev. of 7 runs, 1000 loops each)\n",
      "1.56 µs ± 34.1 ns per loop (mean ± std. dev. of 7 runs, 1000 loops each)\n",
      "5.04 µs ± 291 ns per loop (mean ± std. dev. of 7 runs, 1000 loops each)\n",
      "1.7 µs ± 24.8 ns per loop (mean ± std. dev. of 7 runs, 1000 loops each)\n",
      "5.26 µs ± 56.7 ns per loop (mean ± std. dev. of 7 runs, 1000 loops each)\n",
      "1.8 µs ± 36.2 ns per loop (mean ± std. dev. of 7 runs, 1000 loops each)\n",
      "5.51 µs ± 83.3 ns per loop (mean ± std. dev. of 7 runs, 1000 loops each)\n",
      "1.87 µs ± 80.6 ns per loop (mean ± std. dev. of 7 runs, 1000 loops each)\n",
      "5.79 µs ± 58.4 ns per loop (mean ± std. dev. of 7 runs, 1000 loops each)\n",
      "2.09 µs ± 219 ns per loop (mean ± std. dev. of 7 runs, 1000 loops each)\n",
      "6.44 µs ± 349 ns per loop (mean ± std. dev. of 7 runs, 1000 loops each)\n",
      "2.09 µs ± 52.9 ns per loop (mean ± std. dev. of 7 runs, 1000 loops each)\n",
      "6.6 µs ± 43.9 ns per loop (mean ± std. dev. of 7 runs, 1000 loops each)\n",
      "2.19 µs ± 87.9 ns per loop (mean ± std. dev. of 7 runs, 1000 loops each)\n",
      "6.8 µs ± 41.7 ns per loop (mean ± std. dev. of 7 runs, 1000 loops each)\n",
      "2.25 µs ± 79.4 ns per loop (mean ± std. dev. of 7 runs, 1000 loops each)\n",
      "7.32 µs ± 303 ns per loop (mean ± std. dev. of 7 runs, 1000 loops each)\n",
      "2.63 µs ± 248 ns per loop (mean ± std. dev. of 7 runs, 1000 loops each)\n",
      "8.21 µs ± 266 ns per loop (mean ± std. dev. of 7 runs, 1000 loops each)\n",
      "2.54 µs ± 46.8 ns per loop (mean ± std. dev. of 7 runs, 1000 loops each)\n",
      "8.27 µs ± 114 ns per loop (mean ± std. dev. of 7 runs, 1000 loops each)\n",
      "2.63 µs ± 75.1 ns per loop (mean ± std. dev. of 7 runs, 1000 loops each)\n",
      "8.97 µs ± 500 ns per loop (mean ± std. dev. of 7 runs, 1000 loops each)\n",
      "2.84 µs ± 128 ns per loop (mean ± std. dev. of 7 runs, 1000 loops each)\n",
      "9.07 µs ± 115 ns per loop (mean ± std. dev. of 7 runs, 1000 loops each)\n",
      "2.81 µs ± 81.1 ns per loop (mean ± std. dev. of 7 runs, 1000 loops each)\n",
      "9.3 µs ± 85 ns per loop (mean ± std. dev. of 7 runs, 1000 loops each)\n",
      "2.93 µs ± 114 ns per loop (mean ± std. dev. of 7 runs, 1000 loops each)\n",
      "9.73 µs ± 246 ns per loop (mean ± std. dev. of 7 runs, 1000 loops each)\n",
      "2.97 µs ± 76 ns per loop (mean ± std. dev. of 7 runs, 1000 loops each)\n",
      "10.3 µs ± 638 ns per loop (mean ± std. dev. of 7 runs, 1000 loops each)\n",
      "3.06 µs ± 37 ns per loop (mean ± std. dev. of 7 runs, 1000 loops each)\n",
      "10.5 µs ± 112 ns per loop (mean ± std. dev. of 7 runs, 1000 loops each)\n",
      "3.24 µs ± 98.7 ns per loop (mean ± std. dev. of 7 runs, 1000 loops each)\n",
      "10.9 µs ± 114 ns per loop (mean ± std. dev. of 7 runs, 1000 loops each)\n",
      "3.26 µs ± 28.1 ns per loop (mean ± std. dev. of 7 runs, 1000 loops each)\n",
      "11 µs ± 126 ns per loop (mean ± std. dev. of 7 runs, 1000 loops each)\n",
      "3.28 µs ± 39.4 ns per loop (mean ± std. dev. of 7 runs, 1000 loops each)\n",
      "11.6 µs ± 704 ns per loop (mean ± std. dev. of 7 runs, 1000 loops each)\n",
      "3.42 µs ± 206 ns per loop (mean ± std. dev. of 7 runs, 1000 loops each)\n",
      "11.7 µs ± 366 ns per loop (mean ± std. dev. of 7 runs, 1000 loops each)\n",
      "3.56 µs ± 59.4 ns per loop (mean ± std. dev. of 7 runs, 1000 loops each)\n",
      "12.6 µs ± 122 ns per loop (mean ± std. dev. of 7 runs, 1000 loops each)\n",
      "3.64 µs ± 36.7 ns per loop (mean ± std. dev. of 7 runs, 1000 loops each)\n",
      "12.6 µs ± 240 ns per loop (mean ± std. dev. of 7 runs, 1000 loops each)\n",
      "3.62 µs ± 30.2 ns per loop (mean ± std. dev. of 7 runs, 1000 loops each)\n",
      "12.9 µs ± 110 ns per loop (mean ± std. dev. of 7 runs, 1000 loops each)\n",
      "3.84 µs ± 172 ns per loop (mean ± std. dev. of 7 runs, 1000 loops each)\n",
      "13.1 µs ± 183 ns per loop (mean ± std. dev. of 7 runs, 1000 loops each)\n",
      "3.85 µs ± 126 ns per loop (mean ± std. dev. of 7 runs, 1000 loops each)\n",
      "13.5 µs ± 263 ns per loop (mean ± std. dev. of 7 runs, 1000 loops each)\n",
      "3.93 µs ± 49.6 ns per loop (mean ± std. dev. of 7 runs, 1000 loops each)\n",
      "14 µs ± 299 ns per loop (mean ± std. dev. of 7 runs, 1000 loops each)\n",
      "4.04 µs ± 83.6 ns per loop (mean ± std. dev. of 7 runs, 1000 loops each)\n",
      "14.2 µs ± 107 ns per loop (mean ± std. dev. of 7 runs, 1000 loops each)\n",
      "4.28 µs ± 173 ns per loop (mean ± std. dev. of 7 runs, 1000 loops each)\n",
      "15 µs ± 130 ns per loop (mean ± std. dev. of 7 runs, 1000 loops each)\n",
      "4.29 µs ± 51.7 ns per loop (mean ± std. dev. of 7 runs, 1000 loops each)\n",
      "15.1 µs ± 196 ns per loop (mean ± std. dev. of 7 runs, 1000 loops each)\n",
      "4.28 µs ± 48.9 ns per loop (mean ± std. dev. of 7 runs, 1000 loops each)\n",
      "15.3 µs ± 246 ns per loop (mean ± std. dev. of 7 runs, 1000 loops each)\n",
      "4.44 µs ± 106 ns per loop (mean ± std. dev. of 7 runs, 1000 loops each)\n",
      "16.1 µs ± 430 ns per loop (mean ± std. dev. of 7 runs, 1000 loops each)\n",
      "4.65 µs ± 146 ns per loop (mean ± std. dev. of 7 runs, 1000 loops each)\n",
      "18.1 µs ± 4.06 µs per loop (mean ± std. dev. of 7 runs, 1000 loops each)\n",
      "4.66 µs ± 97.4 ns per loop (mean ± std. dev. of 7 runs, 1000 loops each)\n",
      "16.5 µs ± 347 ns per loop (mean ± std. dev. of 7 runs, 1000 loops each)\n",
      "4.75 µs ± 182 ns per loop (mean ± std. dev. of 7 runs, 1000 loops each)\n",
      "17.2 µs ± 254 ns per loop (mean ± std. dev. of 7 runs, 1000 loops each)\n",
      "4.92 µs ± 115 ns per loop (mean ± std. dev. of 7 runs, 1000 loops each)\n",
      "17.6 µs ± 324 ns per loop (mean ± std. dev. of 7 runs, 1000 loops each)\n",
      "5.07 µs ± 241 ns per loop (mean ± std. dev. of 7 runs, 1000 loops each)\n",
      "17.9 µs ± 341 ns per loop (mean ± std. dev. of 7 runs, 1000 loops each)\n",
      "5.07 µs ± 118 ns per loop (mean ± std. dev. of 7 runs, 1000 loops each)\n",
      "18.4 µs ± 203 ns per loop (mean ± std. dev. of 7 runs, 1000 loops each)\n",
      "5.23 µs ± 180 ns per loop (mean ± std. dev. of 7 runs, 1000 loops each)\n",
      "18.5 µs ± 84.4 ns per loop (mean ± std. dev. of 7 runs, 1000 loops each)\n",
      "5.27 µs ± 78.7 ns per loop (mean ± std. dev. of 7 runs, 1000 loops each)\n",
      "18.6 µs ± 253 ns per loop (mean ± std. dev. of 7 runs, 1000 loops each)\n",
      "5.17 µs ± 43.1 ns per loop (mean ± std. dev. of 7 runs, 1000 loops each)\n",
      "19.8 µs ± 1.61 µs per loop (mean ± std. dev. of 7 runs, 1000 loops each)\n",
      "5.5 µs ± 197 ns per loop (mean ± std. dev. of 7 runs, 1000 loops each)\n",
      "20.2 µs ± 616 ns per loop (mean ± std. dev. of 7 runs, 1000 loops each)\n",
      "5.7 µs ± 416 ns per loop (mean ± std. dev. of 7 runs, 1000 loops each)\n",
      "20.6 µs ± 852 ns per loop (mean ± std. dev. of 7 runs, 1000 loops each)\n",
      "5.75 µs ± 150 ns per loop (mean ± std. dev. of 7 runs, 1000 loops each)\n",
      "20.7 µs ± 287 ns per loop (mean ± std. dev. of 7 runs, 1000 loops each)\n",
      "5.96 µs ± 352 ns per loop (mean ± std. dev. of 7 runs, 1000 loops each)\n",
      "21.4 µs ± 427 ns per loop (mean ± std. dev. of 7 runs, 1000 loops each)\n",
      "6.02 µs ± 240 ns per loop (mean ± std. dev. of 7 runs, 1000 loops each)\n",
      "21.2 µs ± 437 ns per loop (mean ± std. dev. of 7 runs, 1000 loops each)\n"
     ]
    },
    {
     "name": "stdout",
     "output_type": "stream",
     "text": [
      "6.1 µs ± 305 ns per loop (mean ± std. dev. of 7 runs, 1000 loops each)\n",
      "21.6 µs ± 222 ns per loop (mean ± std. dev. of 7 runs, 1000 loops each)\n",
      "5.95 µs ± 44.6 ns per loop (mean ± std. dev. of 7 runs, 1000 loops each)\n",
      "21.5 µs ± 253 ns per loop (mean ± std. dev. of 7 runs, 1000 loops each)\n",
      "6.06 µs ± 254 ns per loop (mean ± std. dev. of 7 runs, 1000 loops each)\n",
      "21.8 µs ± 340 ns per loop (mean ± std. dev. of 7 runs, 1000 loops each)\n",
      "6.04 µs ± 99.1 ns per loop (mean ± std. dev. of 7 runs, 1000 loops each)\n",
      "22.6 µs ± 778 ns per loop (mean ± std. dev. of 7 runs, 1000 loops each)\n",
      "6.15 µs ± 145 ns per loop (mean ± std. dev. of 7 runs, 1000 loops each)\n",
      "23 µs ± 79.6 ns per loop (mean ± std. dev. of 7 runs, 1000 loops each)\n",
      "6.35 µs ± 83.1 ns per loop (mean ± std. dev. of 7 runs, 1000 loops each)\n",
      "22.9 µs ± 184 ns per loop (mean ± std. dev. of 7 runs, 1000 loops each)\n",
      "6.36 µs ± 144 ns per loop (mean ± std. dev. of 7 runs, 1000 loops each)\n",
      "23.8 µs ± 878 ns per loop (mean ± std. dev. of 7 runs, 1000 loops each)\n",
      "6.67 µs ± 129 ns per loop (mean ± std. dev. of 7 runs, 1000 loops each)\n",
      "23.8 µs ± 298 ns per loop (mean ± std. dev. of 7 runs, 1000 loops each)\n",
      "6.92 µs ± 803 ns per loop (mean ± std. dev. of 7 runs, 1000 loops each)\n",
      "24.4 µs ± 398 ns per loop (mean ± std. dev. of 7 runs, 1000 loops each)\n",
      "6.58 µs ± 88.3 ns per loop (mean ± std. dev. of 7 runs, 1000 loops each)\n",
      "24.3 µs ± 158 ns per loop (mean ± std. dev. of 7 runs, 1000 loops each)\n",
      "6.7 µs ± 107 ns per loop (mean ± std. dev. of 7 runs, 1000 loops each)\n",
      "24.5 µs ± 176 ns per loop (mean ± std. dev. of 7 runs, 1000 loops each)\n",
      "6.83 µs ± 150 ns per loop (mean ± std. dev. of 7 runs, 1000 loops each)\n",
      "25 µs ± 241 ns per loop (mean ± std. dev. of 7 runs, 1000 loops each)\n",
      "6.83 µs ± 61.4 ns per loop (mean ± std. dev. of 7 runs, 1000 loops each)\n",
      "25.2 µs ± 655 ns per loop (mean ± std. dev. of 7 runs, 1000 loops each)\n",
      "7.09 µs ± 260 ns per loop (mean ± std. dev. of 7 runs, 1000 loops each)\n",
      "27.3 µs ± 2.51 µs per loop (mean ± std. dev. of 7 runs, 1000 loops each)\n",
      "7.16 µs ± 65 ns per loop (mean ± std. dev. of 7 runs, 1000 loops each)\n",
      "25.6 µs ± 398 ns per loop (mean ± std. dev. of 7 runs, 1000 loops each)\n",
      "6.99 µs ± 123 ns per loop (mean ± std. dev. of 7 runs, 1000 loops each)\n",
      "26 µs ± 400 ns per loop (mean ± std. dev. of 7 runs, 1000 loops each)\n",
      "7.31 µs ± 114 ns per loop (mean ± std. dev. of 7 runs, 1000 loops each)\n",
      "27.2 µs ± 261 ns per loop (mean ± std. dev. of 7 runs, 1000 loops each)\n",
      "7.42 µs ± 122 ns per loop (mean ± std. dev. of 7 runs, 1000 loops each)\n",
      "27.7 µs ± 735 ns per loop (mean ± std. dev. of 7 runs, 1000 loops each)\n",
      "7.56 µs ± 105 ns per loop (mean ± std. dev. of 7 runs, 1000 loops each)\n",
      "28 µs ± 346 ns per loop (mean ± std. dev. of 7 runs, 1000 loops each)\n",
      "7.53 µs ± 102 ns per loop (mean ± std. dev. of 7 runs, 1000 loops each)\n",
      "28.1 µs ± 533 ns per loop (mean ± std. dev. of 7 runs, 1000 loops each)\n",
      "7.67 µs ± 167 ns per loop (mean ± std. dev. of 7 runs, 1000 loops each)\n",
      "28.2 µs ± 228 ns per loop (mean ± std. dev. of 7 runs, 1000 loops each)\n",
      "7.69 µs ± 129 ns per loop (mean ± std. dev. of 7 runs, 1000 loops each)\n",
      "28.4 µs ± 151 ns per loop (mean ± std. dev. of 7 runs, 1000 loops each)\n",
      "7.9 µs ± 155 ns per loop (mean ± std. dev. of 7 runs, 1000 loops each)\n",
      "29.1 µs ± 315 ns per loop (mean ± std. dev. of 7 runs, 1000 loops each)\n",
      "7.86 µs ± 102 ns per loop (mean ± std. dev. of 7 runs, 1000 loops each)\n",
      "28.5 µs ± 175 ns per loop (mean ± std. dev. of 7 runs, 1000 loops each)\n",
      "8.05 µs ± 263 ns per loop (mean ± std. dev. of 7 runs, 1000 loops each)\n",
      "31.4 µs ± 299 ns per loop (mean ± std. dev. of 7 runs, 1000 loops each)\n",
      "8.28 µs ± 95.6 ns per loop (mean ± std. dev. of 7 runs, 1000 loops each)\n",
      "30.7 µs ± 596 ns per loop (mean ± std. dev. of 7 runs, 1000 loops each)\n",
      "8.29 µs ± 66.2 ns per loop (mean ± std. dev. of 7 runs, 1000 loops each)\n",
      "30.8 µs ± 809 ns per loop (mean ± std. dev. of 7 runs, 1000 loops each)\n",
      "8.03 µs ± 166 ns per loop (mean ± std. dev. of 7 runs, 1000 loops each)\n",
      "30 µs ± 275 ns per loop (mean ± std. dev. of 7 runs, 1000 loops each)\n",
      "8.21 µs ± 82.1 ns per loop (mean ± std. dev. of 7 runs, 1000 loops each)\n",
      "31 µs ± 650 ns per loop (mean ± std. dev. of 7 runs, 1000 loops each)\n",
      "8.5 µs ± 69 ns per loop (mean ± std. dev. of 7 runs, 1000 loops each)\n",
      "31.6 µs ± 480 ns per loop (mean ± std. dev. of 7 runs, 1000 loops each)\n",
      "8.66 µs ± 137 ns per loop (mean ± std. dev. of 7 runs, 1000 loops each)\n",
      "31.9 µs ± 196 ns per loop (mean ± std. dev. of 7 runs, 1000 loops each)\n",
      "9 µs ± 215 ns per loop (mean ± std. dev. of 7 runs, 1000 loops each)\n",
      "33 µs ± 501 ns per loop (mean ± std. dev. of 7 runs, 1000 loops each)\n",
      "8.67 µs ± 73 ns per loop (mean ± std. dev. of 7 runs, 1000 loops each)\n",
      "33.1 µs ± 536 ns per loop (mean ± std. dev. of 7 runs, 1000 loops each)\n",
      "8.97 µs ± 53 ns per loop (mean ± std. dev. of 7 runs, 1000 loops each)\n",
      "34.3 µs ± 1.56 µs per loop (mean ± std. dev. of 7 runs, 1000 loops each)\n",
      "9.13 µs ± 206 ns per loop (mean ± std. dev. of 7 runs, 1000 loops each)\n",
      "34.2 µs ± 405 ns per loop (mean ± std. dev. of 7 runs, 1000 loops each)\n",
      "8.97 µs ± 104 ns per loop (mean ± std. dev. of 7 runs, 1000 loops each)\n",
      "33.5 µs ± 788 ns per loop (mean ± std. dev. of 7 runs, 1000 loops each)\n",
      "9.18 µs ± 326 ns per loop (mean ± std. dev. of 7 runs, 1000 loops each)\n",
      "33.8 µs ± 386 ns per loop (mean ± std. dev. of 7 runs, 1000 loops each)\n",
      "8.99 µs ± 125 ns per loop (mean ± std. dev. of 7 runs, 1000 loops each)\n",
      "34.9 µs ± 1.57 µs per loop (mean ± std. dev. of 7 runs, 1000 loops each)\n",
      "9.38 µs ± 116 ns per loop (mean ± std. dev. of 7 runs, 1000 loops each)\n",
      "34.9 µs ± 182 ns per loop (mean ± std. dev. of 7 runs, 1000 loops each)\n",
      "9.58 µs ± 278 ns per loop (mean ± std. dev. of 7 runs, 1000 loops each)\n",
      "35.2 µs ± 284 ns per loop (mean ± std. dev. of 7 runs, 1000 loops each)\n",
      "9.46 µs ± 41 ns per loop (mean ± std. dev. of 7 runs, 1000 loops each)\n",
      "35.6 µs ± 176 ns per loop (mean ± std. dev. of 7 runs, 1000 loops each)\n",
      "9.74 µs ± 154 ns per loop (mean ± std. dev. of 7 runs, 1000 loops each)\n"
     ]
    }
   ],
   "source": [
    "nPal = []\n",
    "recPal = []\n",
    "itePal = []\n",
    "\n",
    "for x in range(1, 100):\n",
    "    nPal.append(x)\n",
    "    s = PalAleatorio(x)\n",
    "    a = %timeit -o -n 1000 PalRecursivo(s)\n",
    "    recPal.append(a)\n",
    "    b = %timeit -o -n 1000 PalIterativo(s)\n",
    "    itePal.append(b)"
   ]
  },
  {
   "cell_type": "code",
   "execution_count": 186,
   "metadata": {},
   "outputs": [
    {
     "name": "stdout",
     "output_type": "stream",
     "text": [
      "99\n"
     ]
    }
   ],
   "source": [
    "best = "
   ]
  }
 ],
 "metadata": {
  "kernelspec": {
   "display_name": "Python 3",
   "language": "python",
   "name": "python3"
  },
  "language_info": {
   "codemirror_mode": {
    "name": "ipython",
    "version": 3
   },
   "file_extension": ".py",
   "mimetype": "text/x-python",
   "name": "python",
   "nbconvert_exporter": "python",
   "pygments_lexer": "ipython3",
   "version": "3.8.1"
  }
 },
 "nbformat": 4,
 "nbformat_minor": 4
}
