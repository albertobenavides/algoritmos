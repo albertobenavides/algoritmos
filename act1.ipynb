{
 "cells": [
  {
   "cell_type": "markdown",
   "metadata": {},
   "source": [
    "# Actividad 1\n",
    "###### Alberto Benavides\n",
    "\n",
    "## Posición de subconjuntos"
   ]
  },
  {
   "cell_type": "markdown",
   "metadata": {},
   "source": [
    "Para obtener la posición de un subconjunto que forma parte de un conjunto, nos podemos servir de tablas de verdad o valores binarios consecutivos, debido a que la presencia o ausencia de elementos de un conjunto puede representarse como bits de una cadena de bits de $n$ posiciones. Esto además coincide con el hecho de que la cantidad de subconjuntos de un conjunto $A$ de $n$ elementos es $2^n$ subconjuntos. Es decir, que un conjunto $A = \\{a, b, c\\}$ tiene los subconjuntos siguientes:\n",
    "\n",
    "$$\\{\\}$$\n",
    "$$\\{a\\}$$\n",
    "$$\\{b\\}$$\n",
    "$$\\{a, b\\}$$\n",
    "$$\\{c\\}$$\n",
    "$$\\{a, c\\}$$\n",
    "$$\\{b, c\\}$$\n",
    "$$\\{a, b, c\\}$$\n",
    "\n",
    "que corresponden a los números binarios\n",
    "\n",
    "$$000_2$$\n",
    "$$001_2$$\n",
    "$$010_2$$\n",
    "$$011_2$$\n",
    "$$100_2$$\n",
    "$$101_2$$\n",
    "$$110_2$$\n",
    "$$111_2$$\n",
    "\n",
    "De esta manera, dar el orden de un subconjunto dados los elementos que contiene se trata simplemente en una tarea de convertir el equivalente binario de sus elementos presentes a su equivalente decimal y viceversa, es decir, que para obtener un subconjunto dado el orden de su aparición, basta con convertir el orden decimal del elemento al número binario."
   ]
  },
  {
   "cell_type": "markdown",
   "metadata": {},
   "source": [
    "## Posición de permutaciones"
   ]
  },
  {
   "cell_type": "markdown",
   "metadata": {},
   "source": [
    "Ahora bien, la cantidad de permutaciones de un conjunto $A$ con $n$ elementos es $n!$. De modo que si $A = \\{a, b, c \\}$ tiene $n = 3$ elementos, contará con $3! = 6$ permutaciones, a saber:\n",
    "\n",
    "$$abc$$\n",
    "$$acb$$\n",
    "$$bac$$\n",
    "$$bca$$\n",
    "$$cab$$\n",
    "$$cba$$\n",
    "\n",
    "Si se desea conocer la posición de una de estas permutaciones, se puede proceder en orden alfabético, letra por letra, contando las permutaciones que se pasan hasta llegar a la letra en orden. Por ejemplo, si se desea conocer el orden de la permutación $daceb$, se deben acumular, primero, todas las permutaciones que empiezan con $a$, es decir $4!$, luego, todas las que empiezan con la $b$, o sea otros $4!$, lo mismo para la $c$ con $4!$. Como la permutación empieza con $d$, se fija esta letra y se repite el proceso, excluyendo las letras fijadas. En orden alfabético seguiría la $a$ para dar $da$ y, como coincide, se fija la $a$ y se procede. Alfabéticamente sigue la $b$, mas no coincide en el orden de la permutación del ejemplo, por lo que hay que acumular también las permutaciones que comienzan con $dab$, a saber $2!$. A continuación sigue $dac$ que coincide con la permutación de ejemplo. Luego $dacb$, siguiendo el orden alfabético de los elementos que quedan disponibles y, al no coindidir, se acumulan $1!$ permutaciones. Luego sigue $dace$ que coincide y agrega el último elemento restante. Tras estos pasos, se sumnan las permutaciones acumuladas, \n",
    "$$4! + 4! + 4! + 2! + 1! =$$\n",
    "$$24 + 24 + 24 + 2 + 1 =$$\n",
    "$$75,$$\n",
    "número que es el orden de la permutación. Para ilustrar mejor este ejemplo, se hará el algoritmo computacional recursivo que permite conocer la posición de la permutación dado un orden alfabético de los elementos que componen la misma."
   ]
  },
  {
   "cell_type": "code",
   "execution_count": 106,
   "metadata": {},
   "outputs": [
    {
     "name": "stdout",
     "output_type": "stream",
     "text": [
      "acegilmoru \t murcielago \t 0\n",
      " acegiloru \t  urcielago \t 2177280\n",
      "  acegilor \t   rcielago \t 2499840\n",
      "   acegilo \t    cielago \t 2535120\n",
      "    aegilo \t     ielago \t 2535840\n",
      "     aeglo \t      elago \t 2536200\n",
      "      aglo \t       lago \t 2536224\n",
      "       ago \t        ago \t 2536236\n",
      "        go \t         go \t 2536236\n",
      "         o \t          o \t 2536236\n",
      "           \t            \t 2536236\n"
     ]
    }
   ],
   "source": [
    "from math import factorial\n",
    "\n",
    "A = \"murcielago\"\n",
    "l = len(A)\n",
    "formato = '%' + str(l) + 's'\n",
    "\n",
    "posicion = 0\n",
    "\n",
    "def Posicion(B, pos):\n",
    "    # https://stackoverflow.com/a/15046263/3113008\n",
    "    B_ordenada = ''.join(sorted(B))\n",
    "    # https://stackoverflow.com/a/8450514/3113008\n",
    "    print(formato % B_ordenada, '\\t', formato %B, '\\t',  pos)\n",
    "    for i in range(len(B_ordenada)):\n",
    "        if(B[0] == B_ordenada[i]):\n",
    "            B = B[1:] # Se elimina la primera letra de la palabra\n",
    "            pos = Posicion(B, pos)\n",
    "            break\n",
    "        else:\n",
    "            pos += factorial(len(B_ordenada) - 1)\n",
    "      \n",
    "Posicion(A, posicion)\n"
   ]
  },
  {
   "cell_type": "markdown",
   "metadata": {},
   "source": [
    "## Intentos\n",
    "\n",
    "Como dato adicional, comparto que dediqué mucho tiempo buscando alguna relación numérica al orden de las permutaciónes similar a la existente entre el orden de los subconjuntos de un conjunto. Mis intentos se centraban en convertir las cadenas de texto en números para ordenarlos de manera ascendente, de modo que $abc$ y sus permutaciones se convirtieran en \n",
    "\n",
    "$$012$$\n",
    "$$021$$\n",
    "$$102$$\n",
    "$$120$$\n",
    "$$201$$\n",
    "$$210$$\n",
    "\n",
    "Estos números están ordenados también de manera alfabética, pero se tratan como números. La mejor aproximación que tuve para encontrar una relación matemática rápida era que se podía multiplicar el primer dígito de la permutación dada por $(n - 1)!$, donde $n$ es el número de elementos. De esta manera, se obtiene una aproximación a la posición del elemento. Por ejemplo, si se desea conocer la posición de la permutación $2130$, se puede multiplicar $2 \\times (4 - 1)!$ para aproximar que la posición debe ser mayor o igual a $12$. Asimismo, se puede multiplicar $(n - 1)!$ por el primer dígito más uno, en este caso $(4 - 1)! \\times 3 = 18$, para definir que la posición debe ser mayor o igual a $12$ y menor a $18$.\n",
    "\n",
    "Todas las demás aproximaciones que aventuré fueron en este sentido, probando multiplicaciones, restas u otras operaciones que pudieran mejorar la precisión de la posición a partir del resto de los dígitos de la permutación, mas nada de eso funcionó."
   ]
  }
 ],
 "metadata": {
  "kernelspec": {
   "display_name": "Python 3",
   "language": "python",
   "name": "python3"
  },
  "language_info": {
   "codemirror_mode": {
    "name": "ipython",
    "version": 3
   },
   "file_extension": ".py",
   "mimetype": "text/x-python",
   "name": "python",
   "nbconvert_exporter": "python",
   "pygments_lexer": "ipython3",
   "version": "3.6.9"
  }
 },
 "nbformat": 4,
 "nbformat_minor": 4
}
