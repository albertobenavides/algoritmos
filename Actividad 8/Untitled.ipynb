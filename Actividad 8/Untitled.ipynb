{
 "cells": [
  {
   "cell_type": "code",
   "execution_count": 47,
   "metadata": {},
   "outputs": [],
   "source": [
    "class Nodo:\n",
    "    def __init__(self, valor):\n",
    "        self.valor = valor\n",
    "        self.izq = None\n",
    "        self.der = None\n",
    "\n",
    "    def __str__(self):\n",
    "        return (\"valor : {}\".format(self.valor))\n",
    "\n",
    "class ArbolBiselado:\n",
    "    def __init__(self, G):\n",
    "        self.root = None\n",
    "        self.G = G\n",
    "        print('creado')\n",
    "    def insertar(self, nodo, padre = None):\n",
    "        if self.root == None:\n",
    "            self.root = nodo\n",
    "            self.G.add_node(nodo.valor)\n",
    "            print('raíz')\n",
    "            return\n",
    "        if padre == None:\n",
    "            padre = self.root\n",
    "        # Si el nodo es menor que el padre\n",
    "        if nodo.valor < padre.valor:\n",
    "            print('{} es menor que {}'.format(nodo.valor, padre.valor))\n",
    "            # Se va a la izq\n",
    "            # Si el hijo izq está vacío\n",
    "            if padre.izq == None:\n",
    "                # Se agrega el hijo y ya\n",
    "                padre.izq = nodo\n",
    "                self.G.add_edge(padre.valor, nodo.valor)\n",
    "                return\n",
    "            # Si no, se pasa este nodo con un nuevo padre\n",
    "            else:\n",
    "                self.insertar(nodo, padre.izq)\n",
    "        else:\n",
    "            print('{} es mayor que {}'.format(nodo.valor, padre.valor))\n",
    "            if padre.der == None:\n",
    "                # Se agrega el hijo y ya\n",
    "                padre.der = nodo\n",
    "                self.G.add_edge(padre.valor, nodo.valor)\n",
    "                return\n",
    "            else:\n",
    "                self.insertar(nodo, padre.der)"
   ]
  },
  {
   "cell_type": "code",
   "execution_count": 48,
   "metadata": {},
   "outputs": [
    {
     "name": "stdout",
     "output_type": "stream",
     "text": [
      "creado\n",
      "raíz\n",
      "10 es mayor que 7\n",
      "9 es mayor que 7\n",
      "9 es menor que 10\n",
      "1 es menor que 7\n",
      "4 es menor que 7\n",
      "4 es mayor que 1\n",
      "3 es menor que 7\n",
      "3 es mayor que 1\n",
      "3 es menor que 4\n",
      "5 es menor que 7\n",
      "5 es mayor que 1\n",
      "5 es mayor que 4\n",
      "2 es menor que 7\n",
      "2 es mayor que 1\n",
      "2 es menor que 4\n",
      "2 es menor que 3\n",
      "6 es menor que 7\n",
      "6 es mayor que 1\n",
      "6 es mayor que 4\n",
      "6 es mayor que 5\n",
      "8 es mayor que 7\n",
      "8 es menor que 10\n",
      "8 es menor que 9\n"
     ]
    },
    {
     "data": {
      "image/png": "[encoded data removed]",
      "text/plain": [
       "<Figure size 432x288 with 1 Axes>"
      ]
     },
     "metadata": {},
     "output_type": "display_data"
    }
   ],
   "source": [
    "import networkx as nx\n",
    "import matplotlib.pyplot as plt\n",
    "\n",
    "G = nx.DiGraph()\n",
    "A = ArbolBiselado(G)\n",
    "for i in [7, 10, 9, 1, 4, 3, 5, 2, 6, 8]:\n",
    "    n = Nodo(i)\n",
    "    A.insertar(n)\n",
    "\n",
    "plt.figure()\n",
    "nx.draw(A.G, with_labels=True, arrows=True)"
   ]
  }
 ],
 "metadata": {
  "kernelspec": {
   "display_name": "Python 3",
   "language": "python",
   "name": "python3"
  },
  "language_info": {
   "codemirror_mode": {
    "name": "ipython",
    "version": 3
   },
   "file_extension": ".py",
   "mimetype": "text/x-python",
   "name": "python",
   "nbconvert_exporter": "python",
   "pygments_lexer": "ipython3",
   "version": "3.8.2"
  }
 },
 "nbformat": 4,
 "nbformat_minor": 4
}
