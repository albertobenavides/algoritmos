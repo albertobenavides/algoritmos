{
 "cells": [
  {
   "cell_type": "code",
   "execution_count": 1,
   "metadata": {},
   "outputs": [],
   "source": [
    "# Obtenido de https://stackoverflow.com/a/29597209\n",
    "def hierarchy_pos(G, root=None, width=1, vert_gap = 0.2, vert_loc = 0, xcenter = 0.5):\n",
    "\n",
    "    '''\n",
    "    From Joel's answer at https://stackoverflow.com/a/29597209/2966723.  \n",
    "    Licensed under Creative Commons Attribution-Share Alike \n",
    "\n",
    "    If the graph is a tree this will return the positions to plot this in a \n",
    "    hierarchical layout.\n",
    "\n",
    "    G: the graph (must be a tree)\n",
    "\n",
    "    root: the root node of current branch \n",
    "    - if the tree is directed and this is not given, \n",
    "      the root will be found and used\n",
    "    - if the tree is directed and this is given, then \n",
    "      the positions will be just for the descendants of this node.\n",
    "    - if the tree is undirected and not given, \n",
    "      then a random choice will be used.\n",
    "\n",
    "    width: horizontal space allocated for this branch - avoids overlap with other branches\n",
    "\n",
    "    vert_gap: gap between levels of hierarchy\n",
    "\n",
    "    vert_loc: vertical location of root\n",
    "\n",
    "    xcenter: horizontal location of root\n",
    "    '''\n",
    "    if not nx.is_tree(G):\n",
    "        raise TypeError('cannot use hierarchy_pos on a graph that is not a tree')\n",
    "\n",
    "    if root is None:\n",
    "        if isinstance(G, nx.DiGraph):\n",
    "            root = next(iter(nx.topological_sort(G)))  #allows back compatibility with nx version 1.11\n",
    "        else:\n",
    "            root = random.choice(list(G.nodes))\n",
    "\n",
    "    def _hierarchy_pos(G, root, width=1., vert_gap = 0.2, vert_loc = 0, xcenter = 0.5, pos = None, parent = None):\n",
    "        '''\n",
    "        see hierarchy_pos docstring for most arguments\n",
    "\n",
    "        pos: a dict saying where all nodes go if they have been assigned\n",
    "        parent: parent of this branch. - only affects it if non-directed\n",
    "\n",
    "        '''\n",
    "\n",
    "        if pos is None:\n",
    "            pos = {root:(xcenter,vert_loc)}\n",
    "        else:\n",
    "            pos[root] = (xcenter, vert_loc)\n",
    "        children = list(G.neighbors(root))\n",
    "        if not isinstance(G, nx.DiGraph) and parent is not None:\n",
    "            children.remove(parent)  \n",
    "        if len(children)!=0:\n",
    "            dx = width/len(children) \n",
    "            nextx = xcenter - width/2 - dx/2\n",
    "            for child in children:\n",
    "                nextx += dx\n",
    "                pos = _hierarchy_pos(G,child, width = dx, vert_gap = vert_gap, \n",
    "                                    vert_loc = vert_loc-vert_gap, xcenter=nextx,\n",
    "                                    pos=pos, parent = root)\n",
    "        return pos\n",
    "\n",
    "\n",
    "    return _hierarchy_pos(G, root, width, vert_gap, vert_loc, xcenter)"
   ]
  },
  {
   "cell_type": "code",
   "execution_count": 49,
   "metadata": {},
   "outputs": [
    {
     "ename": "SyntaxError",
     "evalue": "unexpected EOF while parsing (<ipython-input-49-790bba392953>, line 68)",
     "output_type": "error",
     "traceback": [
      "\u001b[1;36m  File \u001b[1;32m\"<ipython-input-49-790bba392953>\"\u001b[1;36m, line \u001b[1;32m68\u001b[0m\n\u001b[1;33m    def rotar(self, actual, padre):\u001b[0m\n\u001b[1;37m                                   ^\u001b[0m\n\u001b[1;31mSyntaxError\u001b[0m\u001b[1;31m:\u001b[0m unexpected EOF while parsing\n"
     ]
    }
   ],
   "source": [
    "class Nodo:\n",
    "    def __init__(self, valor):\n",
    "        self.valor = valor\n",
    "        self.izq = None\n",
    "        self.der = None\n",
    "\n",
    "    def __str__(self):\n",
    "        return (\"valor : {}\".format(self.valor))\n",
    "\n",
    "class ArbolBiselado:\n",
    "    def __init__(self, G):\n",
    "        self.raiz = None\n",
    "        self.G = G\n",
    "    def insertar(self, nodo, padre = None):\n",
    "        if self.raiz == None:\n",
    "            self.raiz = nodo\n",
    "            self.G.add_node(nodo.valor)\n",
    "            return\n",
    "        if padre == None:\n",
    "            padre = self.raiz\n",
    "        # Si el nodo es menor que el padre\n",
    "        if nodo.valor < padre.valor:\n",
    "            # Se va a la izq\n",
    "            # Si el hijo izq está vacío\n",
    "            if padre.izq == None:\n",
    "                # Se agrega el hijo y ya\n",
    "                padre.izq = nodo\n",
    "                self.G.add_edge(padre.valor, nodo.valor)\n",
    "                return\n",
    "            # Si no, se pasa este nodo con un nuevo padre\n",
    "            else:\n",
    "                self.insertar(nodo, padre.izq)\n",
    "        else:\n",
    "            if padre.der == None:\n",
    "                # Se agrega el hijo y ya\n",
    "                padre.der = nodo\n",
    "                self.G.add_edge(padre.valor, nodo.valor)\n",
    "                return\n",
    "            else:\n",
    "                self.insertar(nodo, padre.der)\n",
    "    \n",
    "    def buscar(self, valor, actual = None):\n",
    "        if self.raiz == None:\n",
    "            print('No se encuentra')\n",
    "            return\n",
    "        else:\n",
    "            if actual == None:\n",
    "                actual = self.raiz\n",
    "            if actual.valor == valor:\n",
    "                return actual\n",
    "            elif valor < actual.valor:\n",
    "                # Si es menor\n",
    "                if actual.izq == None:\n",
    "                    print('No se encuentra')\n",
    "                    return\n",
    "                else:\n",
    "                    print('A la izquierda')\n",
    "                    self.buscar(valor, actual.izq)\n",
    "            else:\n",
    "                # Si es mayor\n",
    "                if actual.der == None:\n",
    "                    print('No se encuentra')\n",
    "                    return\n",
    "                else:\n",
    "                    print('A la derecha')\n",
    "                    self.buscar(valor, actual.der)\n",
    "                    \n",
    "    def rotar(self, actual, padre):"
   ]
  },
  {
   "cell_type": "code",
   "execution_count": 46,
   "metadata": {},
   "outputs": [
    {
     "data": {
      "image/png": "[encoded data removed]",
      "text/plain": [
       "<Figure size 1080x360 with 1 Axes>"
      ]
     },
     "metadata": {},
     "output_type": "display_data"
    }
   ],
   "source": [
    "from random import shuffle\n",
    "import networkx as nx\n",
    "import matplotlib.pyplot as plt\n",
    "\n",
    "x = list(range(10))\n",
    "shuffle(x)\n",
    "G = nx.DiGraph()\n",
    "A = ArbolBiselado(G)\n",
    "for i in x:\n",
    "    n = Nodo(i)\n",
    "    A.insertar(n)\n",
    "\n",
    "pos = hierarchy_pos(A.G, A.raiz.valor)\n",
    "plt.figure(figsize=(15,5))\n",
    "nx.draw(A.G, pos = pos, with_labels=True, arrows=True)"
   ]
  },
  {
   "cell_type": "code",
   "execution_count": 48,
   "metadata": {},
   "outputs": [
    {
     "name": "stdout",
     "output_type": "stream",
     "text": [
      "A la derecha\n",
      "A la izquierda\n",
      "A la derecha\n",
      "None\n"
     ]
    }
   ],
   "source": [
    "print(A.buscar(7))"
   ]
  }
 ],
 "metadata": {
  "kernelspec": {
   "display_name": "Python 3",
   "language": "python",
   "name": "python3"
  },
  "language_info": {
   "codemirror_mode": {
    "name": "ipython",
    "version": 3
   },
   "file_extension": ".py",
   "mimetype": "text/x-python",
   "name": "python",
   "nbconvert_exporter": "python",
   "pygments_lexer": "ipython3",
   "version": "3.8.2"
  }
 },
 "nbformat": 4,
 "nbformat_minor": 4
}
