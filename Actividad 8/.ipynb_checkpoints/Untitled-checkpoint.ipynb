{
 "cells": [
  {
   "cell_type": "code",
   "execution_count": 14,
   "metadata": {},
   "outputs": [
    {
     "ename": "SyntaxError",
     "evalue": "non-default argument follows default argument (<ipython-input-14-8eb99e1ae7da>, line 14)",
     "output_type": "error",
     "traceback": [
      "\u001b[1;36m  File \u001b[1;32m\"<ipython-input-14-8eb99e1ae7da>\"\u001b[1;36m, line \u001b[1;32m14\u001b[0m\n\u001b[1;33m    def insertar(self, nodo, padre = None, G):\u001b[0m\n\u001b[1;37m                 ^\u001b[0m\n\u001b[1;31mSyntaxError\u001b[0m\u001b[1;31m:\u001b[0m non-default argument follows default argument\n"
     ]
    }
   ],
   "source": [
    "class Nodo:\n",
    "    def __init__(self, valor):\n",
    "        self.valor = valor\n",
    "        self.izq = None\n",
    "        self.der = None\n",
    "\n",
    "    def __str__(self):\n",
    "        return (\"valor : {}\".format(self.valor))\n",
    "\n",
    "class ArbolBiselado:\n",
    "    def __init__(self, G):\n",
    "        self.root = None\n",
    "        self.G = G\n",
    "    def insertar(self, nodo, padre = None):\n",
    "        if self.root == None:\n",
    "            self.root = nodo\n",
    "            G.add_node(nodo.valor)\n",
    "        if padre == None:\n",
    "            padre = nodo\n",
    "        # Si el nodo es menor que el padre\n",
    "        elif nodo.valor < padre.valor:\n",
    "            # Se va a la izq\n",
    "            # Si el hijo izq está vacío\n",
    "            if padre.izq == None:\n",
    "                # Se agrega el hijo y ya\n",
    "                padre.izq = nodo\n",
    "                G.add_edge(padre.valor, nodo.valor)\n",
    "            # Si no, se pasa este nodo con un nuevo padre\n",
    "            else:\n",
    "                self.insertar(nodo, padre.izq)\n",
    "        else:\n",
    "            if padre.der == None:\n",
    "                # Se agrega el hijo y ya\n",
    "                padre.izq = nodo\n",
    "                G.add_edge(padre.valor, nodo.valor)\n",
    "            else:\n",
    "                self.insertar(nodo, padre.der)"
   ]
  },
  {
   "cell_type": "code",
   "execution_count": 15,
   "metadata": {},
   "outputs": [
    {
     "ename": "TypeError",
     "evalue": "__init__() takes 1 positional argument but 2 were given",
     "output_type": "error",
     "traceback": [
      "\u001b[1;31m---------------------------------------------------------------------------\u001b[0m",
      "\u001b[1;31mTypeError\u001b[0m                                 Traceback (most recent call last)",
      "\u001b[1;32m<ipython-input-15-f59e5ed2985c>\u001b[0m in \u001b[0;36m<module>\u001b[1;34m\u001b[0m\n\u001b[0;32m      3\u001b[0m \u001b[1;33m\u001b[0m\u001b[0m\n\u001b[0;32m      4\u001b[0m \u001b[0mG\u001b[0m \u001b[1;33m=\u001b[0m \u001b[0mnx\u001b[0m\u001b[1;33m.\u001b[0m\u001b[0mGraph\u001b[0m\u001b[1;33m(\u001b[0m\u001b[1;33m)\u001b[0m\u001b[1;33m\u001b[0m\u001b[1;33m\u001b[0m\u001b[0m\n\u001b[1;32m----> 5\u001b[1;33m \u001b[0mA\u001b[0m \u001b[1;33m=\u001b[0m \u001b[0mArbolBiselado\u001b[0m\u001b[1;33m(\u001b[0m\u001b[0mG\u001b[0m\u001b[1;33m)\u001b[0m\u001b[1;33m\u001b[0m\u001b[1;33m\u001b[0m\u001b[0m\n\u001b[0m\u001b[0;32m      6\u001b[0m \u001b[0mn\u001b[0m \u001b[1;33m=\u001b[0m \u001b[0mNodo\u001b[0m\u001b[1;33m(\u001b[0m\u001b[1;36m7\u001b[0m\u001b[1;33m)\u001b[0m\u001b[1;33m\u001b[0m\u001b[1;33m\u001b[0m\u001b[0m\n\u001b[0;32m      7\u001b[0m \u001b[0mA\u001b[0m\u001b[1;33m.\u001b[0m\u001b[0minsertar\u001b[0m\u001b[1;33m(\u001b[0m\u001b[0mn\u001b[0m\u001b[1;33m)\u001b[0m\u001b[1;33m\u001b[0m\u001b[1;33m\u001b[0m\u001b[0m\n",
      "\u001b[1;31mTypeError\u001b[0m: __init__() takes 1 positional argument but 2 were given"
     ]
    }
   ],
   "source": [
    "import networkx as nx\n",
    "import matplotlib.pyplot as plt\n",
    "\n",
    "G = nx.Graph()\n",
    "A = ArbolBiselado(G)\n",
    "n = Nodo(7)\n",
    "A.insertar(n)\n",
    "\n",
    "plt.figure()\n",
    "nx.draw(G, with_labels=True)\n",
    "plt.close()"
   ]
  }
 ],
 "metadata": {
  "kernelspec": {
   "display_name": "Python 3",
   "language": "python",
   "name": "python3"
  },
  "language_info": {
   "codemirror_mode": {
    "name": "ipython",
    "version": 3
   },
   "file_extension": ".py",
   "mimetype": "text/x-python",
   "name": "python",
   "nbconvert_exporter": "python",
   "pygments_lexer": "ipython3",
   "version": "3.8.2"
  }
 },
 "nbformat": 4,
 "nbformat_minor": 4
}
