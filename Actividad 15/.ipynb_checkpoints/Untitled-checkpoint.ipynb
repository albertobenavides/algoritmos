{
 "cells": [
  {
   "cell_type": "code",
   "execution_count": 185,
   "metadata": {},
   "outputs": [
    {
     "data": {
      "image/png": "[encoded data removed]",
      "text/plain": [
       "<Figure size 432x417.6 with 1 Axes>"
      ]
     },
     "metadata": {
      "needs_background": "light"
     },
     "output_type": "display_data"
    }
   ],
   "source": [
    "from random import random\n",
    "\n",
    "puntos = {}\n",
    "\n",
    "# Can1tidad de puntos\n",
    "n = 20\n",
    "\n",
    "for i in range(n):\n",
    "    # Se generan puntos al azar de coordenadas x, y\n",
    "    t = (random(), random())\n",
    "    puntos[i] = t\n",
    "    \n",
    "# Se muestran los puntos\n",
    "import matplotlib.pyplot as plt\n",
    "plt.figure(figsize=(6, 5.8))\n",
    "plt.scatter(*zip(*puntos.values()))\n",
    "for i in puntos.keys():\n",
    "    plt.annotate(i, (puntos[i][0], puntos[i][1]))\n",
    "plt.xlim(-0.2, 1.2)\n",
    "plt.ylim(-0.2, 1.2)\n",
    "plt.show()"
   ]
  },
  {
   "cell_type": "code",
   "execution_count": 196,
   "metadata": {},
   "outputs": [],
   "source": [
    "poligono_convexo = []\n",
    "\n",
    "# Se eligen los extremos superior e inferior\n",
    "def encontrar_arista(conjunto, a, b, dir):\n",
    "    if len(conjunto) == 0:\n",
    "        return\n",
    "    else:\n",
    "        m = (puntos[a][1] - puntos[b][1]) / (puntos[a][0] - puntos[b][0])\n",
    "        A = m\n",
    "        B = -1\n",
    "        C = - m * puntos[a][0] + puntos[a][1] \n",
    "        dist_max = 0\n",
    "        local_max = None\n",
    "        for i in conjunto:\n",
    "            x = puntos[i][0]\n",
    "            y = puntos[i][1]\n",
    "            dist = abs(A * x + B * y + C) / (A ** 2 + B ** 2) ** 0.5\n",
    "            if dist > dist_max:\n",
    "                dist_max = dist\n",
    "                local_max = i\n",
    "                \n",
    "        # Ya que se encuentra el más lejano, se unen\n",
    "        s1 = []\n",
    "        s2 = []\n",
    "        s1a = []\n",
    "        s2a = []\n",
    "        for i in conjunto:\n",
    "            if i == local_max:\n",
    "                continue\n",
    "            v1 = (puntos[b][0] - puntos[local_max][0], puntos[b][1] - puntos[local_max][1])\n",
    "            v2 = (puntos[b][0] - puntos[i][0], puntos[b][1] - puntos[i][1])\n",
    "            xp = v1[0]*v2[1] - v1[1]*v2[0]  # Cross product\n",
    "            if xp < 0:\n",
    "                s1.append(i)\n",
    "            elif xp > 0:\n",
    "                s2.append(i)\n",
    "            \n",
    "            v1 = (puntos[local_max][0] - puntos[a][0], puntos[local_max][1] - puntos[a][1])\n",
    "            v2 = (puntos[local_max][0] - puntos[i][0], puntos[local_max][1] - puntos[i][1])\n",
    "            xp = v1[0]*v2[1] - v1[1]*v2[0]  # Cross product\n",
    "            if xp < 0:\n",
    "                s1a.append(i)\n",
    "            elif xp > 0:\n",
    "                s2a.append(i)\n",
    "            \n",
    "        \n",
    "        aristas.append(local_max)\n",
    "        if dir == 'i':\n",
    "            encontrar_arista(s1, local_max, b, 'i')\n",
    "            encontrar_arista(s1a, local_max, a, 'i')\n",
    "        else:\n",
    "            encontrar_arista(s2, local_max, b, 'd')\n",
    "            encontrar_arista(s2a, a, local_max, 'd')"
   ]
  },
  {
   "cell_type": "code",
   "execution_count": 197,
   "metadata": {},
   "outputs": [
    {
     "data": {
      "image/png": "[encoded data removed]",
      "text/plain": [
       "<Figure size 432x417.6 with 1 Axes>"
      ]
     },
     "metadata": {
      "needs_background": "light"
     },
     "output_type": "display_data"
    },
    {
     "name": "stdout",
     "output_type": "stream",
     "text": [
      "[0, 7, 8, 9, 12, 13, 15, 18, 19]\n",
      "[1, 2, 3, 4, 6, 11, 14, 16, 17]\n"
     ]
    }
   ],
   "source": [
    "aristas = []\n",
    "\n",
    "min_y = float(\"inf\")\n",
    "max_y = 0\n",
    "\n",
    "punto_max = None\n",
    "punto_min = None\n",
    "\n",
    "s1 = []\n",
    "s2 = []\n",
    "\n",
    "for i in puntos.keys():\n",
    "    if puntos[i][1] > max_y:\n",
    "        max_y = puntos[i][1]\n",
    "        punto_max = i\n",
    "    if puntos[i][1] < min_y:\n",
    "        min_y = puntos[i][1]\n",
    "        punto_min = i\n",
    "\n",
    "# Se separan en izquierda y derecha\n",
    "plt.figure(figsize=(6, 5.8))\n",
    "plt.scatter(*zip(*puntos.values()))\n",
    "for i in puntos.keys():\n",
    "    if i == punto_max or i == punto_min:\n",
    "        plt.annotate(str(i), (puntos[i][0], puntos[i][1]))\n",
    "        continue\n",
    "    # https://stackoverflow.com/a/3838398 ¡ESTO!\n",
    "    v1 = (puntos[punto_max][0] - puntos[punto_min][0], puntos[punto_max][1] - puntos[punto_min][1])   # Vector 1\n",
    "    v2 = (puntos[punto_max][0] - puntos[i][0], puntos[punto_max][1] - puntos[i][1])   # Vector 1\n",
    "    xp = v1[0]*v2[1] - v1[1]*v2[0]  # Cross product\n",
    "    t = ''\n",
    "    if xp < 0:\n",
    "        t = 'i'\n",
    "        s1.append(i)\n",
    "    elif xp > 0:\n",
    "        t = 'd'\n",
    "        s2.append(i)\n",
    "    else:\n",
    "        t = ''\n",
    "    plt.annotate(str(i) + t, (puntos[i][0], puntos[i][1]))\n",
    "\n",
    "plt.plot([puntos[punto_max][0], puntos[punto_min][0]], [puntos[punto_max][1], puntos[punto_min][1]])\n",
    "plt.xlim(-0.2, 1.2)\n",
    "plt.ylim(-0.2, 1.2)\n",
    "plt.show()\n",
    "\n",
    "print(s1)\n",
    "print(s2)"
   ]
  },
  {
   "cell_type": "code",
   "execution_count": 198,
   "metadata": {},
   "outputs": [],
   "source": [
    "aristas.append(punto_min)\n",
    "aristas.append(punto_max)\n",
    "encontrar_arista(s1, punto_min, punto_max, 'i')\n",
    "encontrar_arista(s2, punto_min, punto_max, 'd')"
   ]
  },
  {
   "cell_type": "code",
   "execution_count": 199,
   "metadata": {},
   "outputs": [
    {
     "name": "stdout",
     "output_type": "stream",
     "text": [
      "[10, 5, 19, 8, 12, 0, 3, 17, 6]\n"
     ]
    }
   ],
   "source": [
    "print(aristas)"
   ]
  }
 ],
 "metadata": {
  "kernelspec": {
   "display_name": "Python 3",
   "language": "python",
   "name": "python3"
  },
  "language_info": {
   "codemirror_mode": {
    "name": "ipython",
    "version": 3
   },
   "file_extension": ".py",
   "mimetype": "text/x-python",
   "name": "python",
   "nbconvert_exporter": "python",
   "pygments_lexer": "ipython3",
   "version": "3.8.2"
  }
 },
 "nbformat": 4,
 "nbformat_minor": 4
}
